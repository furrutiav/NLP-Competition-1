{
 "cells": [
  {
   "cell_type": "markdown",
   "id": "1042f194",
   "metadata": {},
   "source": [
    "**NLP**\n",
    "\n",
    "*CC6205-1 - Otoño 2022*\n",
    "\n",
    "Autor: Felipe Urrutia Vargas"
   ]
  },
  {
   "cell_type": "code",
   "execution_count": 4,
   "id": "61754f55",
   "metadata": {},
   "outputs": [
    {
     "ename": "ModuleNotFoundError",
     "evalue": "No module named 'plotly'",
     "output_type": "error",
     "traceback": [
      "\u001b[0;31m---------------------------------------------------------------------------\u001b[0m",
      "\u001b[0;31mModuleNotFoundError\u001b[0m                       Traceback (most recent call last)",
      "\u001b[0;32m<ipython-input-4-d11d37018cf4>\u001b[0m in \u001b[0;36m<module>\u001b[0;34m\u001b[0m\n\u001b[1;32m     24\u001b[0m \u001b[0;32mimport\u001b[0m \u001b[0mrandom\u001b[0m\u001b[0;34m\u001b[0m\u001b[0;34m\u001b[0m\u001b[0m\n\u001b[1;32m     25\u001b[0m \u001b[0;34m\u001b[0m\u001b[0m\n\u001b[0;32m---> 26\u001b[0;31m \u001b[0;32mimport\u001b[0m \u001b[0mplotly\u001b[0m\u001b[0;34m.\u001b[0m\u001b[0mexpress\u001b[0m \u001b[0;32mas\u001b[0m \u001b[0mpx\u001b[0m\u001b[0;34m\u001b[0m\u001b[0;34m\u001b[0m\u001b[0m\n\u001b[0m",
      "\u001b[0;31mModuleNotFoundError\u001b[0m: No module named 'plotly'"
     ]
    }
   ],
   "source": [
    "# !pip install --upgrade pandas\n",
    "\n",
    "import pandas as pd\n",
    "import numpy as np\n",
    "# pd.set_option(\"max_rows\", None)\n",
    "import pickle\n",
    "from string import punctuation\n",
    "import re\n",
    "\n",
    "from sklearn.metrics import cohen_kappa_score\n",
    "import matplotlib.pyplot as plt\n",
    "# import seaborn as sns\n",
    "# from astropy.visualization import hist\n",
    "# sns.set_theme(style=\"whitegrid\")\n",
    "plt.rc('axes', titlesize=14)\n",
    "plt.rc('legend', fontsize=14)\n",
    "plt.rc('xtick', labelsize=12)\n",
    "plt.rc('ytick', labelsize=12)\n",
    "plt.rcParams.update({'font.size': 16})\n",
    "plt.rcParams['axes.titlesize'] = 16\n",
    "plt.rcParams[\"figure.figsize\"] = (10, 6)\n",
    "plt.rcParams.update({'lines.markeredgewidth': 1})\n",
    "plt.rcParams.update({'errorbar.capsize': 2})\n",
    "import random\n",
    "\n",
    "import plotly.express as px"
   ]
  },
  {
   "cell_type": "code",
   "execution_count": null,
   "id": "31828964",
   "metadata": {},
   "outputs": [],
   "source": [
    "sentiments = \"anger fear joy sadness\".split()\n",
    "intensities = \"low medium high\".split()\n",
    "\n",
    "root_data = \"assignment_1/data\"\n",
    "file_names = {\n",
    "    \"train/anger\": \"/train/anger-train.txt\",\n",
    "    \"train/fear\": \"/train/fear-train.txt\",\n",
    "    \"train/joy\": \"/train/joy-train.txt\",\n",
    "    \"train/sadness\": \"/train/sadness-train.txt\"\n",
    "}"
   ]
  },
  {
   "cell_type": "code",
   "execution_count": null,
   "id": "43e65878",
   "metadata": {},
   "outputs": [],
   "source": [
    "def txt_to_df(file_name):   \n",
    "    with open(file_name, encoding=\"utf-8\") as f:\n",
    "        data = []\n",
    "        for l in f.read().split(\"\\n\")[:-1]:\n",
    "            o = {}\n",
    "            for k, v in enumerate(l.split(\"\\t\")):\n",
    "                col_name = \"id text sen int\".split()[k]\n",
    "                o[col_name] = v\n",
    "            data.append(o)\n",
    "    return pd.DataFrame(data).set_index(\"id\")"
   ]
  },
  {
   "cell_type": "code",
   "execution_count": 2,
   "id": "386db2ad",
   "metadata": {},
   "outputs": [
    {
     "ename": "NameError",
     "evalue": "name 'sentiments' is not defined",
     "output_type": "error",
     "traceback": [
      "\u001b[0;31m---------------------------------------------------------------------------\u001b[0m",
      "\u001b[0;31mNameError\u001b[0m                                 Traceback (most recent call last)",
      "\u001b[0;32m<ipython-input-2-a8ef3c0b459d>\u001b[0m in \u001b[0;36m<module>\u001b[0;34m\u001b[0m\n\u001b[1;32m      1\u001b[0m \u001b[0mdf_train\u001b[0m \u001b[0;34m=\u001b[0m \u001b[0mpd\u001b[0m\u001b[0;34m.\u001b[0m\u001b[0mDataFrame\u001b[0m\u001b[0;34m(\u001b[0m\u001b[0;34m)\u001b[0m\u001b[0;34m\u001b[0m\u001b[0;34m\u001b[0m\u001b[0m\n\u001b[0;32m----> 2\u001b[0;31m \u001b[0;32mfor\u001b[0m \u001b[0msen\u001b[0m \u001b[0;32min\u001b[0m \u001b[0msentiments\u001b[0m\u001b[0;34m:\u001b[0m\u001b[0;34m\u001b[0m\u001b[0;34m\u001b[0m\u001b[0m\n\u001b[0m\u001b[1;32m      3\u001b[0m     \u001b[0mfile_name\u001b[0m \u001b[0;34m=\u001b[0m \u001b[0mroot_data\u001b[0m\u001b[0;34m+\u001b[0m\u001b[0mfile_names\u001b[0m\u001b[0;34m[\u001b[0m\u001b[0;34mf\"train/{sen}\"\u001b[0m\u001b[0;34m]\u001b[0m\u001b[0;34m\u001b[0m\u001b[0;34m\u001b[0m\u001b[0m\n\u001b[1;32m      4\u001b[0m     \u001b[0mdf_sen\u001b[0m \u001b[0;34m=\u001b[0m \u001b[0mtxt_to_df\u001b[0m\u001b[0;34m(\u001b[0m\u001b[0mfile_name\u001b[0m\u001b[0;34m)\u001b[0m\u001b[0;34m\u001b[0m\u001b[0;34m\u001b[0m\u001b[0m\n\u001b[1;32m      5\u001b[0m     \u001b[0mdf_train\u001b[0m \u001b[0;34m=\u001b[0m \u001b[0mpd\u001b[0m\u001b[0;34m.\u001b[0m\u001b[0mconcat\u001b[0m\u001b[0;34m(\u001b[0m\u001b[0;34m[\u001b[0m\u001b[0mdf_train\u001b[0m\u001b[0;34m,\u001b[0m \u001b[0mdf_sen\u001b[0m\u001b[0;34m]\u001b[0m\u001b[0;34m,\u001b[0m \u001b[0maxis\u001b[0m\u001b[0;34m=\u001b[0m\u001b[0;36m0\u001b[0m\u001b[0;34m)\u001b[0m\u001b[0;34m\u001b[0m\u001b[0;34m\u001b[0m\u001b[0m\n",
      "\u001b[0;31mNameError\u001b[0m: name 'sentiments' is not defined"
     ]
    }
   ],
   "source": [
    "df_train = pd.DataFrame()\n",
    "for sen in sentiments:\n",
    "    file_name = root_data+file_names[f\"train/{sen}\"]\n",
    "    df_sen = txt_to_df(file_name)\n",
    "    df_train = pd.concat([df_train, df_sen], axis=0)\n",
    "df_train"
   ]
  },
  {
   "cell_type": "code",
   "execution_count": 50,
   "id": "bd89fa4c",
   "metadata": {},
   "outputs": [],
   "source": [
    "summ1_data = []\n",
    "for s in sentiments:\n",
    "    for i in intensities:\n",
    "        _sub = df_train[(df_train[\"sen\"] == s) & (df_train[\"int\"] == i)]\n",
    "        o = {\"sen\": s, \"int\": i}\n",
    "        o[\"count\"] = _sub.shape[0]\n",
    "        summ1_data.append(o)\n",
    "summ1_df = pd.DataFrame(summ1_data)"
   ]
  },
  {
   "cell_type": "code",
   "execution_count": 53,
   "id": "b21ef6d5",
   "metadata": {},
   "outputs": [
    {
     "data": {
      "application/vnd.plotly.v1+json": {
       "config": {
        "plotlyServerURL": "https://plot.ly"
       },
       "data": [
        {
         "alignmentgroup": "True",
         "hovertemplate": "int=low<br>sen=%{x}<br>count=%{y}<extra></extra>",
         "legendgroup": "low",
         "marker": {
          "color": "#636efa",
          "pattern": {
           "shape": ""
          }
         },
         "name": "low",
         "offsetgroup": "low",
         "orientation": "v",
         "showlegend": true,
         "textposition": "auto",
         "type": "bar",
         "x": [
          "anger",
          "fear",
          "joy",
          "sadness"
         ],
         "xaxis": "x",
         "y": [
          161,
          288,
          219,
          210
         ],
         "yaxis": "y"
        },
        {
         "alignmentgroup": "True",
         "hovertemplate": "int=medium<br>sen=%{x}<br>count=%{y}<extra></extra>",
         "legendgroup": "medium",
         "marker": {
          "color": "#EF553B",
          "pattern": {
           "shape": ""
          }
         },
         "name": "medium",
         "offsetgroup": "medium",
         "orientation": "v",
         "showlegend": true,
         "textposition": "auto",
         "type": "bar",
         "x": [
          "anger",
          "fear",
          "joy",
          "sadness"
         ],
         "xaxis": "x",
         "y": [
          617,
          699,
          488,
          453
         ],
         "yaxis": "y"
        },
        {
         "alignmentgroup": "True",
         "hovertemplate": "int=high<br>sen=%{x}<br>count=%{y}<extra></extra>",
         "legendgroup": "high",
         "marker": {
          "color": "#00cc96",
          "pattern": {
           "shape": ""
          }
         },
         "name": "high",
         "offsetgroup": "high",
         "orientation": "v",
         "showlegend": true,
         "textposition": "auto",
         "type": "bar",
         "x": [
          "anger",
          "fear",
          "joy",
          "sadness"
         ],
         "xaxis": "x",
         "y": [
          163,
          270,
          195,
          197
         ],
         "yaxis": "y"
        }
       ],
       "layout": {
        "barmode": "relative",
        "legend": {
         "title": {
          "text": "int"
         },
         "tracegroupgap": 0
        },
        "template": {
         "data": {
          "bar": [
           {
            "error_x": {
             "color": "#2a3f5f"
            },
            "error_y": {
             "color": "#2a3f5f"
            },
            "marker": {
             "line": {
              "color": "#E5ECF6",
              "width": 0.5
             },
             "pattern": {
              "fillmode": "overlay",
              "size": 10,
              "solidity": 0.2
             }
            },
            "type": "bar"
           }
          ],
          "barpolar": [
           {
            "marker": {
             "line": {
              "color": "#E5ECF6",
              "width": 0.5
             },
             "pattern": {
              "fillmode": "overlay",
              "size": 10,
              "solidity": 0.2
             }
            },
            "type": "barpolar"
           }
          ],
          "carpet": [
           {
            "aaxis": {
             "endlinecolor": "#2a3f5f",
             "gridcolor": "white",
             "linecolor": "white",
             "minorgridcolor": "white",
             "startlinecolor": "#2a3f5f"
            },
            "baxis": {
             "endlinecolor": "#2a3f5f",
             "gridcolor": "white",
             "linecolor": "white",
             "minorgridcolor": "white",
             "startlinecolor": "#2a3f5f"
            },
            "type": "carpet"
           }
          ],
          "choropleth": [
           {
            "colorbar": {
             "outlinewidth": 0,
             "ticks": ""
            },
            "type": "choropleth"
           }
          ],
          "contour": [
           {
            "colorbar": {
             "outlinewidth": 0,
             "ticks": ""
            },
            "colorscale": [
             [
              0,
              "#0d0887"
             ],
             [
              0.1111111111111111,
              "#46039f"
             ],
             [
              0.2222222222222222,
              "#7201a8"
             ],
             [
              0.3333333333333333,
              "#9c179e"
             ],
             [
              0.4444444444444444,
              "#bd3786"
             ],
             [
              0.5555555555555556,
              "#d8576b"
             ],
             [
              0.6666666666666666,
              "#ed7953"
             ],
             [
              0.7777777777777778,
              "#fb9f3a"
             ],
             [
              0.8888888888888888,
              "#fdca26"
             ],
             [
              1,
              "#f0f921"
             ]
            ],
            "type": "contour"
           }
          ],
          "contourcarpet": [
           {
            "colorbar": {
             "outlinewidth": 0,
             "ticks": ""
            },
            "type": "contourcarpet"
           }
          ],
          "heatmap": [
           {
            "colorbar": {
             "outlinewidth": 0,
             "ticks": ""
            },
            "colorscale": [
             [
              0,
              "#0d0887"
             ],
             [
              0.1111111111111111,
              "#46039f"
             ],
             [
              0.2222222222222222,
              "#7201a8"
             ],
             [
              0.3333333333333333,
              "#9c179e"
             ],
             [
              0.4444444444444444,
              "#bd3786"
             ],
             [
              0.5555555555555556,
              "#d8576b"
             ],
             [
              0.6666666666666666,
              "#ed7953"
             ],
             [
              0.7777777777777778,
              "#fb9f3a"
             ],
             [
              0.8888888888888888,
              "#fdca26"
             ],
             [
              1,
              "#f0f921"
             ]
            ],
            "type": "heatmap"
           }
          ],
          "heatmapgl": [
           {
            "colorbar": {
             "outlinewidth": 0,
             "ticks": ""
            },
            "colorscale": [
             [
              0,
              "#0d0887"
             ],
             [
              0.1111111111111111,
              "#46039f"
             ],
             [
              0.2222222222222222,
              "#7201a8"
             ],
             [
              0.3333333333333333,
              "#9c179e"
             ],
             [
              0.4444444444444444,
              "#bd3786"
             ],
             [
              0.5555555555555556,
              "#d8576b"
             ],
             [
              0.6666666666666666,
              "#ed7953"
             ],
             [
              0.7777777777777778,
              "#fb9f3a"
             ],
             [
              0.8888888888888888,
              "#fdca26"
             ],
             [
              1,
              "#f0f921"
             ]
            ],
            "type": "heatmapgl"
           }
          ],
          "histogram": [
           {
            "marker": {
             "pattern": {
              "fillmode": "overlay",
              "size": 10,
              "solidity": 0.2
             }
            },
            "type": "histogram"
           }
          ],
          "histogram2d": [
           {
            "colorbar": {
             "outlinewidth": 0,
             "ticks": ""
            },
            "colorscale": [
             [
              0,
              "#0d0887"
             ],
             [
              0.1111111111111111,
              "#46039f"
             ],
             [
              0.2222222222222222,
              "#7201a8"
             ],
             [
              0.3333333333333333,
              "#9c179e"
             ],
             [
              0.4444444444444444,
              "#bd3786"
             ],
             [
              0.5555555555555556,
              "#d8576b"
             ],
             [
              0.6666666666666666,
              "#ed7953"
             ],
             [
              0.7777777777777778,
              "#fb9f3a"
             ],
             [
              0.8888888888888888,
              "#fdca26"
             ],
             [
              1,
              "#f0f921"
             ]
            ],
            "type": "histogram2d"
           }
          ],
          "histogram2dcontour": [
           {
            "colorbar": {
             "outlinewidth": 0,
             "ticks": ""
            },
            "colorscale": [
             [
              0,
              "#0d0887"
             ],
             [
              0.1111111111111111,
              "#46039f"
             ],
             [
              0.2222222222222222,
              "#7201a8"
             ],
             [
              0.3333333333333333,
              "#9c179e"
             ],
             [
              0.4444444444444444,
              "#bd3786"
             ],
             [
              0.5555555555555556,
              "#d8576b"
             ],
             [
              0.6666666666666666,
              "#ed7953"
             ],
             [
              0.7777777777777778,
              "#fb9f3a"
             ],
             [
              0.8888888888888888,
              "#fdca26"
             ],
             [
              1,
              "#f0f921"
             ]
            ],
            "type": "histogram2dcontour"
           }
          ],
          "mesh3d": [
           {
            "colorbar": {
             "outlinewidth": 0,
             "ticks": ""
            },
            "type": "mesh3d"
           }
          ],
          "parcoords": [
           {
            "line": {
             "colorbar": {
              "outlinewidth": 0,
              "ticks": ""
             }
            },
            "type": "parcoords"
           }
          ],
          "pie": [
           {
            "automargin": true,
            "type": "pie"
           }
          ],
          "scatter": [
           {
            "marker": {
             "colorbar": {
              "outlinewidth": 0,
              "ticks": ""
             }
            },
            "type": "scatter"
           }
          ],
          "scatter3d": [
           {
            "line": {
             "colorbar": {
              "outlinewidth": 0,
              "ticks": ""
             }
            },
            "marker": {
             "colorbar": {
              "outlinewidth": 0,
              "ticks": ""
             }
            },
            "type": "scatter3d"
           }
          ],
          "scattercarpet": [
           {
            "marker": {
             "colorbar": {
              "outlinewidth": 0,
              "ticks": ""
             }
            },
            "type": "scattercarpet"
           }
          ],
          "scattergeo": [
           {
            "marker": {
             "colorbar": {
              "outlinewidth": 0,
              "ticks": ""
             }
            },
            "type": "scattergeo"
           }
          ],
          "scattergl": [
           {
            "marker": {
             "colorbar": {
              "outlinewidth": 0,
              "ticks": ""
             }
            },
            "type": "scattergl"
           }
          ],
          "scattermapbox": [
           {
            "marker": {
             "colorbar": {
              "outlinewidth": 0,
              "ticks": ""
             }
            },
            "type": "scattermapbox"
           }
          ],
          "scatterpolar": [
           {
            "marker": {
             "colorbar": {
              "outlinewidth": 0,
              "ticks": ""
             }
            },
            "type": "scatterpolar"
           }
          ],
          "scatterpolargl": [
           {
            "marker": {
             "colorbar": {
              "outlinewidth": 0,
              "ticks": ""
             }
            },
            "type": "scatterpolargl"
           }
          ],
          "scatterternary": [
           {
            "marker": {
             "colorbar": {
              "outlinewidth": 0,
              "ticks": ""
             }
            },
            "type": "scatterternary"
           }
          ],
          "surface": [
           {
            "colorbar": {
             "outlinewidth": 0,
             "ticks": ""
            },
            "colorscale": [
             [
              0,
              "#0d0887"
             ],
             [
              0.1111111111111111,
              "#46039f"
             ],
             [
              0.2222222222222222,
              "#7201a8"
             ],
             [
              0.3333333333333333,
              "#9c179e"
             ],
             [
              0.4444444444444444,
              "#bd3786"
             ],
             [
              0.5555555555555556,
              "#d8576b"
             ],
             [
              0.6666666666666666,
              "#ed7953"
             ],
             [
              0.7777777777777778,
              "#fb9f3a"
             ],
             [
              0.8888888888888888,
              "#fdca26"
             ],
             [
              1,
              "#f0f921"
             ]
            ],
            "type": "surface"
           }
          ],
          "table": [
           {
            "cells": {
             "fill": {
              "color": "#EBF0F8"
             },
             "line": {
              "color": "white"
             }
            },
            "header": {
             "fill": {
              "color": "#C8D4E3"
             },
             "line": {
              "color": "white"
             }
            },
            "type": "table"
           }
          ]
         },
         "layout": {
          "annotationdefaults": {
           "arrowcolor": "#2a3f5f",
           "arrowhead": 0,
           "arrowwidth": 1
          },
          "autotypenumbers": "strict",
          "coloraxis": {
           "colorbar": {
            "outlinewidth": 0,
            "ticks": ""
           }
          },
          "colorscale": {
           "diverging": [
            [
             0,
             "#8e0152"
            ],
            [
             0.1,
             "#c51b7d"
            ],
            [
             0.2,
             "#de77ae"
            ],
            [
             0.3,
             "#f1b6da"
            ],
            [
             0.4,
             "#fde0ef"
            ],
            [
             0.5,
             "#f7f7f7"
            ],
            [
             0.6,
             "#e6f5d0"
            ],
            [
             0.7,
             "#b8e186"
            ],
            [
             0.8,
             "#7fbc41"
            ],
            [
             0.9,
             "#4d9221"
            ],
            [
             1,
             "#276419"
            ]
           ],
           "sequential": [
            [
             0,
             "#0d0887"
            ],
            [
             0.1111111111111111,
             "#46039f"
            ],
            [
             0.2222222222222222,
             "#7201a8"
            ],
            [
             0.3333333333333333,
             "#9c179e"
            ],
            [
             0.4444444444444444,
             "#bd3786"
            ],
            [
             0.5555555555555556,
             "#d8576b"
            ],
            [
             0.6666666666666666,
             "#ed7953"
            ],
            [
             0.7777777777777778,
             "#fb9f3a"
            ],
            [
             0.8888888888888888,
             "#fdca26"
            ],
            [
             1,
             "#f0f921"
            ]
           ],
           "sequentialminus": [
            [
             0,
             "#0d0887"
            ],
            [
             0.1111111111111111,
             "#46039f"
            ],
            [
             0.2222222222222222,
             "#7201a8"
            ],
            [
             0.3333333333333333,
             "#9c179e"
            ],
            [
             0.4444444444444444,
             "#bd3786"
            ],
            [
             0.5555555555555556,
             "#d8576b"
            ],
            [
             0.6666666666666666,
             "#ed7953"
            ],
            [
             0.7777777777777778,
             "#fb9f3a"
            ],
            [
             0.8888888888888888,
             "#fdca26"
            ],
            [
             1,
             "#f0f921"
            ]
           ]
          },
          "colorway": [
           "#636efa",
           "#EF553B",
           "#00cc96",
           "#ab63fa",
           "#FFA15A",
           "#19d3f3",
           "#FF6692",
           "#B6E880",
           "#FF97FF",
           "#FECB52"
          ],
          "font": {
           "color": "#2a3f5f"
          },
          "geo": {
           "bgcolor": "white",
           "lakecolor": "white",
           "landcolor": "#E5ECF6",
           "showlakes": true,
           "showland": true,
           "subunitcolor": "white"
          },
          "hoverlabel": {
           "align": "left"
          },
          "hovermode": "closest",
          "mapbox": {
           "style": "light"
          },
          "paper_bgcolor": "white",
          "plot_bgcolor": "#E5ECF6",
          "polar": {
           "angularaxis": {
            "gridcolor": "white",
            "linecolor": "white",
            "ticks": ""
           },
           "bgcolor": "#E5ECF6",
           "radialaxis": {
            "gridcolor": "white",
            "linecolor": "white",
            "ticks": ""
           }
          },
          "scene": {
           "xaxis": {
            "backgroundcolor": "#E5ECF6",
            "gridcolor": "white",
            "gridwidth": 2,
            "linecolor": "white",
            "showbackground": true,
            "ticks": "",
            "zerolinecolor": "white"
           },
           "yaxis": {
            "backgroundcolor": "#E5ECF6",
            "gridcolor": "white",
            "gridwidth": 2,
            "linecolor": "white",
            "showbackground": true,
            "ticks": "",
            "zerolinecolor": "white"
           },
           "zaxis": {
            "backgroundcolor": "#E5ECF6",
            "gridcolor": "white",
            "gridwidth": 2,
            "linecolor": "white",
            "showbackground": true,
            "ticks": "",
            "zerolinecolor": "white"
           }
          },
          "shapedefaults": {
           "line": {
            "color": "#2a3f5f"
           }
          },
          "ternary": {
           "aaxis": {
            "gridcolor": "white",
            "linecolor": "white",
            "ticks": ""
           },
           "baxis": {
            "gridcolor": "white",
            "linecolor": "white",
            "ticks": ""
           },
           "bgcolor": "#E5ECF6",
           "caxis": {
            "gridcolor": "white",
            "linecolor": "white",
            "ticks": ""
           }
          },
          "title": {
           "x": 0.05
          },
          "xaxis": {
           "automargin": true,
           "gridcolor": "white",
           "linecolor": "white",
           "ticks": "",
           "title": {
            "standoff": 15
           },
           "zerolinecolor": "white",
           "zerolinewidth": 2
          },
          "yaxis": {
           "automargin": true,
           "gridcolor": "white",
           "linecolor": "white",
           "ticks": "",
           "title": {
            "standoff": 15
           },
           "zerolinecolor": "white",
           "zerolinewidth": 2
          }
         }
        },
        "title": {
         "text": "Frecuencia de sentimientos e intensidades"
        },
        "xaxis": {
         "anchor": "y",
         "domain": [
          0,
          1
         ],
         "title": {
          "text": "sen"
         }
        },
        "yaxis": {
         "anchor": "x",
         "domain": [
          0,
          1
         ],
         "title": {
          "text": "count"
         }
        }
       }
      },
      "text/html": [
       "<div>                            <div id=\"ee1f51ed-14ab-49eb-af4e-cac6403d51b0\" class=\"plotly-graph-div\" style=\"height:525px; width:100%;\"></div>            <script type=\"text/javascript\">                require([\"plotly\"], function(Plotly) {                    window.PLOTLYENV=window.PLOTLYENV || {};                                    if (document.getElementById(\"ee1f51ed-14ab-49eb-af4e-cac6403d51b0\")) {                    Plotly.newPlot(                        \"ee1f51ed-14ab-49eb-af4e-cac6403d51b0\",                        [{\"alignmentgroup\":\"True\",\"hovertemplate\":\"int=low<br>sen=%{x}<br>count=%{y}<extra></extra>\",\"legendgroup\":\"low\",\"marker\":{\"color\":\"#636efa\",\"pattern\":{\"shape\":\"\"}},\"name\":\"low\",\"offsetgroup\":\"low\",\"orientation\":\"v\",\"showlegend\":true,\"textposition\":\"auto\",\"x\":[\"anger\",\"fear\",\"joy\",\"sadness\"],\"xaxis\":\"x\",\"y\":[161,288,219,210],\"yaxis\":\"y\",\"type\":\"bar\"},{\"alignmentgroup\":\"True\",\"hovertemplate\":\"int=medium<br>sen=%{x}<br>count=%{y}<extra></extra>\",\"legendgroup\":\"medium\",\"marker\":{\"color\":\"#EF553B\",\"pattern\":{\"shape\":\"\"}},\"name\":\"medium\",\"offsetgroup\":\"medium\",\"orientation\":\"v\",\"showlegend\":true,\"textposition\":\"auto\",\"x\":[\"anger\",\"fear\",\"joy\",\"sadness\"],\"xaxis\":\"x\",\"y\":[617,699,488,453],\"yaxis\":\"y\",\"type\":\"bar\"},{\"alignmentgroup\":\"True\",\"hovertemplate\":\"int=high<br>sen=%{x}<br>count=%{y}<extra></extra>\",\"legendgroup\":\"high\",\"marker\":{\"color\":\"#00cc96\",\"pattern\":{\"shape\":\"\"}},\"name\":\"high\",\"offsetgroup\":\"high\",\"orientation\":\"v\",\"showlegend\":true,\"textposition\":\"auto\",\"x\":[\"anger\",\"fear\",\"joy\",\"sadness\"],\"xaxis\":\"x\",\"y\":[163,270,195,197],\"yaxis\":\"y\",\"type\":\"bar\"}],                        {\"template\":{\"data\":{\"bar\":[{\"error_x\":{\"color\":\"#2a3f5f\"},\"error_y\":{\"color\":\"#2a3f5f\"},\"marker\":{\"line\":{\"color\":\"#E5ECF6\",\"width\":0.5},\"pattern\":{\"fillmode\":\"overlay\",\"size\":10,\"solidity\":0.2}},\"type\":\"bar\"}],\"barpolar\":[{\"marker\":{\"line\":{\"color\":\"#E5ECF6\",\"width\":0.5},\"pattern\":{\"fillmode\":\"overlay\",\"size\":10,\"solidity\":0.2}},\"type\":\"barpolar\"}],\"carpet\":[{\"aaxis\":{\"endlinecolor\":\"#2a3f5f\",\"gridcolor\":\"white\",\"linecolor\":\"white\",\"minorgridcolor\":\"white\",\"startlinecolor\":\"#2a3f5f\"},\"baxis\":{\"endlinecolor\":\"#2a3f5f\",\"gridcolor\":\"white\",\"linecolor\":\"white\",\"minorgridcolor\":\"white\",\"startlinecolor\":\"#2a3f5f\"},\"type\":\"carpet\"}],\"choropleth\":[{\"colorbar\":{\"outlinewidth\":0,\"ticks\":\"\"},\"type\":\"choropleth\"}],\"contour\":[{\"colorbar\":{\"outlinewidth\":0,\"ticks\":\"\"},\"colorscale\":[[0.0,\"#0d0887\"],[0.1111111111111111,\"#46039f\"],[0.2222222222222222,\"#7201a8\"],[0.3333333333333333,\"#9c179e\"],[0.4444444444444444,\"#bd3786\"],[0.5555555555555556,\"#d8576b\"],[0.6666666666666666,\"#ed7953\"],[0.7777777777777778,\"#fb9f3a\"],[0.8888888888888888,\"#fdca26\"],[1.0,\"#f0f921\"]],\"type\":\"contour\"}],\"contourcarpet\":[{\"colorbar\":{\"outlinewidth\":0,\"ticks\":\"\"},\"type\":\"contourcarpet\"}],\"heatmap\":[{\"colorbar\":{\"outlinewidth\":0,\"ticks\":\"\"},\"colorscale\":[[0.0,\"#0d0887\"],[0.1111111111111111,\"#46039f\"],[0.2222222222222222,\"#7201a8\"],[0.3333333333333333,\"#9c179e\"],[0.4444444444444444,\"#bd3786\"],[0.5555555555555556,\"#d8576b\"],[0.6666666666666666,\"#ed7953\"],[0.7777777777777778,\"#fb9f3a\"],[0.8888888888888888,\"#fdca26\"],[1.0,\"#f0f921\"]],\"type\":\"heatmap\"}],\"heatmapgl\":[{\"colorbar\":{\"outlinewidth\":0,\"ticks\":\"\"},\"colorscale\":[[0.0,\"#0d0887\"],[0.1111111111111111,\"#46039f\"],[0.2222222222222222,\"#7201a8\"],[0.3333333333333333,\"#9c179e\"],[0.4444444444444444,\"#bd3786\"],[0.5555555555555556,\"#d8576b\"],[0.6666666666666666,\"#ed7953\"],[0.7777777777777778,\"#fb9f3a\"],[0.8888888888888888,\"#fdca26\"],[1.0,\"#f0f921\"]],\"type\":\"heatmapgl\"}],\"histogram\":[{\"marker\":{\"pattern\":{\"fillmode\":\"overlay\",\"size\":10,\"solidity\":0.2}},\"type\":\"histogram\"}],\"histogram2d\":[{\"colorbar\":{\"outlinewidth\":0,\"ticks\":\"\"},\"colorscale\":[[0.0,\"#0d0887\"],[0.1111111111111111,\"#46039f\"],[0.2222222222222222,\"#7201a8\"],[0.3333333333333333,\"#9c179e\"],[0.4444444444444444,\"#bd3786\"],[0.5555555555555556,\"#d8576b\"],[0.6666666666666666,\"#ed7953\"],[0.7777777777777778,\"#fb9f3a\"],[0.8888888888888888,\"#fdca26\"],[1.0,\"#f0f921\"]],\"type\":\"histogram2d\"}],\"histogram2dcontour\":[{\"colorbar\":{\"outlinewidth\":0,\"ticks\":\"\"},\"colorscale\":[[0.0,\"#0d0887\"],[0.1111111111111111,\"#46039f\"],[0.2222222222222222,\"#7201a8\"],[0.3333333333333333,\"#9c179e\"],[0.4444444444444444,\"#bd3786\"],[0.5555555555555556,\"#d8576b\"],[0.6666666666666666,\"#ed7953\"],[0.7777777777777778,\"#fb9f3a\"],[0.8888888888888888,\"#fdca26\"],[1.0,\"#f0f921\"]],\"type\":\"histogram2dcontour\"}],\"mesh3d\":[{\"colorbar\":{\"outlinewidth\":0,\"ticks\":\"\"},\"type\":\"mesh3d\"}],\"parcoords\":[{\"line\":{\"colorbar\":{\"outlinewidth\":0,\"ticks\":\"\"}},\"type\":\"parcoords\"}],\"pie\":[{\"automargin\":true,\"type\":\"pie\"}],\"scatter\":[{\"marker\":{\"colorbar\":{\"outlinewidth\":0,\"ticks\":\"\"}},\"type\":\"scatter\"}],\"scatter3d\":[{\"line\":{\"colorbar\":{\"outlinewidth\":0,\"ticks\":\"\"}},\"marker\":{\"colorbar\":{\"outlinewidth\":0,\"ticks\":\"\"}},\"type\":\"scatter3d\"}],\"scattercarpet\":[{\"marker\":{\"colorbar\":{\"outlinewidth\":0,\"ticks\":\"\"}},\"type\":\"scattercarpet\"}],\"scattergeo\":[{\"marker\":{\"colorbar\":{\"outlinewidth\":0,\"ticks\":\"\"}},\"type\":\"scattergeo\"}],\"scattergl\":[{\"marker\":{\"colorbar\":{\"outlinewidth\":0,\"ticks\":\"\"}},\"type\":\"scattergl\"}],\"scattermapbox\":[{\"marker\":{\"colorbar\":{\"outlinewidth\":0,\"ticks\":\"\"}},\"type\":\"scattermapbox\"}],\"scatterpolar\":[{\"marker\":{\"colorbar\":{\"outlinewidth\":0,\"ticks\":\"\"}},\"type\":\"scatterpolar\"}],\"scatterpolargl\":[{\"marker\":{\"colorbar\":{\"outlinewidth\":0,\"ticks\":\"\"}},\"type\":\"scatterpolargl\"}],\"scatterternary\":[{\"marker\":{\"colorbar\":{\"outlinewidth\":0,\"ticks\":\"\"}},\"type\":\"scatterternary\"}],\"surface\":[{\"colorbar\":{\"outlinewidth\":0,\"ticks\":\"\"},\"colorscale\":[[0.0,\"#0d0887\"],[0.1111111111111111,\"#46039f\"],[0.2222222222222222,\"#7201a8\"],[0.3333333333333333,\"#9c179e\"],[0.4444444444444444,\"#bd3786\"],[0.5555555555555556,\"#d8576b\"],[0.6666666666666666,\"#ed7953\"],[0.7777777777777778,\"#fb9f3a\"],[0.8888888888888888,\"#fdca26\"],[1.0,\"#f0f921\"]],\"type\":\"surface\"}],\"table\":[{\"cells\":{\"fill\":{\"color\":\"#EBF0F8\"},\"line\":{\"color\":\"white\"}},\"header\":{\"fill\":{\"color\":\"#C8D4E3\"},\"line\":{\"color\":\"white\"}},\"type\":\"table\"}]},\"layout\":{\"annotationdefaults\":{\"arrowcolor\":\"#2a3f5f\",\"arrowhead\":0,\"arrowwidth\":1},\"autotypenumbers\":\"strict\",\"coloraxis\":{\"colorbar\":{\"outlinewidth\":0,\"ticks\":\"\"}},\"colorscale\":{\"diverging\":[[0,\"#8e0152\"],[0.1,\"#c51b7d\"],[0.2,\"#de77ae\"],[0.3,\"#f1b6da\"],[0.4,\"#fde0ef\"],[0.5,\"#f7f7f7\"],[0.6,\"#e6f5d0\"],[0.7,\"#b8e186\"],[0.8,\"#7fbc41\"],[0.9,\"#4d9221\"],[1,\"#276419\"]],\"sequential\":[[0.0,\"#0d0887\"],[0.1111111111111111,\"#46039f\"],[0.2222222222222222,\"#7201a8\"],[0.3333333333333333,\"#9c179e\"],[0.4444444444444444,\"#bd3786\"],[0.5555555555555556,\"#d8576b\"],[0.6666666666666666,\"#ed7953\"],[0.7777777777777778,\"#fb9f3a\"],[0.8888888888888888,\"#fdca26\"],[1.0,\"#f0f921\"]],\"sequentialminus\":[[0.0,\"#0d0887\"],[0.1111111111111111,\"#46039f\"],[0.2222222222222222,\"#7201a8\"],[0.3333333333333333,\"#9c179e\"],[0.4444444444444444,\"#bd3786\"],[0.5555555555555556,\"#d8576b\"],[0.6666666666666666,\"#ed7953\"],[0.7777777777777778,\"#fb9f3a\"],[0.8888888888888888,\"#fdca26\"],[1.0,\"#f0f921\"]]},\"colorway\":[\"#636efa\",\"#EF553B\",\"#00cc96\",\"#ab63fa\",\"#FFA15A\",\"#19d3f3\",\"#FF6692\",\"#B6E880\",\"#FF97FF\",\"#FECB52\"],\"font\":{\"color\":\"#2a3f5f\"},\"geo\":{\"bgcolor\":\"white\",\"lakecolor\":\"white\",\"landcolor\":\"#E5ECF6\",\"showlakes\":true,\"showland\":true,\"subunitcolor\":\"white\"},\"hoverlabel\":{\"align\":\"left\"},\"hovermode\":\"closest\",\"mapbox\":{\"style\":\"light\"},\"paper_bgcolor\":\"white\",\"plot_bgcolor\":\"#E5ECF6\",\"polar\":{\"angularaxis\":{\"gridcolor\":\"white\",\"linecolor\":\"white\",\"ticks\":\"\"},\"bgcolor\":\"#E5ECF6\",\"radialaxis\":{\"gridcolor\":\"white\",\"linecolor\":\"white\",\"ticks\":\"\"}},\"scene\":{\"xaxis\":{\"backgroundcolor\":\"#E5ECF6\",\"gridcolor\":\"white\",\"gridwidth\":2,\"linecolor\":\"white\",\"showbackground\":true,\"ticks\":\"\",\"zerolinecolor\":\"white\"},\"yaxis\":{\"backgroundcolor\":\"#E5ECF6\",\"gridcolor\":\"white\",\"gridwidth\":2,\"linecolor\":\"white\",\"showbackground\":true,\"ticks\":\"\",\"zerolinecolor\":\"white\"},\"zaxis\":{\"backgroundcolor\":\"#E5ECF6\",\"gridcolor\":\"white\",\"gridwidth\":2,\"linecolor\":\"white\",\"showbackground\":true,\"ticks\":\"\",\"zerolinecolor\":\"white\"}},\"shapedefaults\":{\"line\":{\"color\":\"#2a3f5f\"}},\"ternary\":{\"aaxis\":{\"gridcolor\":\"white\",\"linecolor\":\"white\",\"ticks\":\"\"},\"baxis\":{\"gridcolor\":\"white\",\"linecolor\":\"white\",\"ticks\":\"\"},\"bgcolor\":\"#E5ECF6\",\"caxis\":{\"gridcolor\":\"white\",\"linecolor\":\"white\",\"ticks\":\"\"}},\"title\":{\"x\":0.05},\"xaxis\":{\"automargin\":true,\"gridcolor\":\"white\",\"linecolor\":\"white\",\"ticks\":\"\",\"title\":{\"standoff\":15},\"zerolinecolor\":\"white\",\"zerolinewidth\":2},\"yaxis\":{\"automargin\":true,\"gridcolor\":\"white\",\"linecolor\":\"white\",\"ticks\":\"\",\"title\":{\"standoff\":15},\"zerolinecolor\":\"white\",\"zerolinewidth\":2}}},\"xaxis\":{\"anchor\":\"y\",\"domain\":[0.0,1.0],\"title\":{\"text\":\"sen\"}},\"yaxis\":{\"anchor\":\"x\",\"domain\":[0.0,1.0],\"title\":{\"text\":\"count\"}},\"legend\":{\"title\":{\"text\":\"int\"},\"tracegroupgap\":0},\"title\":{\"text\":\"Frecuencia de sentimientos e intensidades\"},\"barmode\":\"relative\"},                        {\"responsive\": true}                    ).then(function(){\n",
       "                            \n",
       "var gd = document.getElementById('ee1f51ed-14ab-49eb-af4e-cac6403d51b0');\n",
       "var x = new MutationObserver(function (mutations, observer) {{\n",
       "        var display = window.getComputedStyle(gd).display;\n",
       "        if (!display || display === 'none') {{\n",
       "            console.log([gd, 'removed!']);\n",
       "            Plotly.purge(gd);\n",
       "            observer.disconnect();\n",
       "        }}\n",
       "}});\n",
       "\n",
       "// Listen for the removal of the full notebook cells\n",
       "var notebookContainer = gd.closest('#notebook-container');\n",
       "if (notebookContainer) {{\n",
       "    x.observe(notebookContainer, {childList: true});\n",
       "}}\n",
       "\n",
       "// Listen for the clearing of the current output cell\n",
       "var outputEl = gd.closest('.output');\n",
       "if (outputEl) {{\n",
       "    x.observe(outputEl, {childList: true});\n",
       "}}\n",
       "\n",
       "                        })                };                });            </script>        </div>"
      ]
     },
     "metadata": {},
     "output_type": "display_data"
    }
   ],
   "source": [
    "fig = px.bar(summ1_df, x=\"sen\", y=\"count\", color=\"int\", title=\"Frecuencia de sentimientos e intensidades\")\n",
    "fig.show()\n",
    "fig.write_html(\"summ1.html\")"
   ]
  },
  {
   "cell_type": "code",
   "execution_count": 54,
   "id": "5a84306a",
   "metadata": {
    "scrolled": true
   },
   "outputs": [
    {
     "data": {
      "text/html": [
       "<div>\n",
       "<style scoped>\n",
       "    .dataframe tbody tr th:only-of-type {\n",
       "        vertical-align: middle;\n",
       "    }\n",
       "\n",
       "    .dataframe tbody tr th {\n",
       "        vertical-align: top;\n",
       "    }\n",
       "\n",
       "    .dataframe thead th {\n",
       "        text-align: right;\n",
       "    }\n",
       "</style>\n",
       "<table border=\"1\" class=\"dataframe\">\n",
       "  <thead>\n",
       "    <tr style=\"text-align: right;\">\n",
       "      <th></th>\n",
       "      <th>text</th>\n",
       "      <th>sen</th>\n",
       "      <th>int</th>\n",
       "    </tr>\n",
       "    <tr>\n",
       "      <th>id</th>\n",
       "      <th></th>\n",
       "      <th></th>\n",
       "      <th></th>\n",
       "    </tr>\n",
       "  </thead>\n",
       "  <tbody>\n",
       "    <tr>\n",
       "      <th>30000</th>\n",
       "      <td>Just got back from seeing @GaryDelaney in Burs...</td>\n",
       "      <td>joy</td>\n",
       "      <td>high</td>\n",
       "    </tr>\n",
       "    <tr>\n",
       "      <th>30001</th>\n",
       "      <td>Oh dear an evening of absolute hilarity I don'...</td>\n",
       "      <td>joy</td>\n",
       "      <td>high</td>\n",
       "    </tr>\n",
       "    <tr>\n",
       "      <th>30002</th>\n",
       "      <td>Been waiting all week for this game ❤️❤️❤️ #ch...</td>\n",
       "      <td>joy</td>\n",
       "      <td>high</td>\n",
       "    </tr>\n",
       "    <tr>\n",
       "      <th>30003</th>\n",
       "      <td>@gardiner_love : Thank you so much, Gloria! Yo...</td>\n",
       "      <td>joy</td>\n",
       "      <td>high</td>\n",
       "    </tr>\n",
       "    <tr>\n",
       "      <th>30004</th>\n",
       "      <td>I feel so blessed to work with the family that...</td>\n",
       "      <td>joy</td>\n",
       "      <td>high</td>\n",
       "    </tr>\n",
       "    <tr>\n",
       "      <th>...</th>\n",
       "      <td>...</td>\n",
       "      <td>...</td>\n",
       "      <td>...</td>\n",
       "    </tr>\n",
       "    <tr>\n",
       "      <th>30897</th>\n",
       "      <td>It feels good to get outside for a minute and ...</td>\n",
       "      <td>joy</td>\n",
       "      <td>medium</td>\n",
       "    </tr>\n",
       "    <tr>\n",
       "      <th>30898</th>\n",
       "      <td>@r0Ils ppl get triggered over u smiling they'r...</td>\n",
       "      <td>joy</td>\n",
       "      <td>low</td>\n",
       "    </tr>\n",
       "    <tr>\n",
       "      <th>30899</th>\n",
       "      <td>@GigaFag @pipertownsend_ snapchat new would be...</td>\n",
       "      <td>joy</td>\n",
       "      <td>medium</td>\n",
       "    </tr>\n",
       "    <tr>\n",
       "      <th>30900</th>\n",
       "      <td>@GigaFag @pipertownsend_ snapchat new would be...</td>\n",
       "      <td>joy</td>\n",
       "      <td>low</td>\n",
       "    </tr>\n",
       "    <tr>\n",
       "      <th>30901</th>\n",
       "      <td>A hearty Jonza! to all my friends and follower.</td>\n",
       "      <td>joy</td>\n",
       "      <td>high</td>\n",
       "    </tr>\n",
       "  </tbody>\n",
       "</table>\n",
       "<p>902 rows × 3 columns</p>\n",
       "</div>"
      ],
      "text/plain": [
       "                                                    text  sen     int\n",
       "id                                                                   \n",
       "30000  Just got back from seeing @GaryDelaney in Burs...  joy    high\n",
       "30001  Oh dear an evening of absolute hilarity I don'...  joy    high\n",
       "30002  Been waiting all week for this game ❤️❤️❤️ #ch...  joy    high\n",
       "30003  @gardiner_love : Thank you so much, Gloria! Yo...  joy    high\n",
       "30004  I feel so blessed to work with the family that...  joy    high\n",
       "...                                                  ...  ...     ...\n",
       "30897  It feels good to get outside for a minute and ...  joy  medium\n",
       "30898  @r0Ils ppl get triggered over u smiling they'r...  joy     low\n",
       "30899  @GigaFag @pipertownsend_ snapchat new would be...  joy  medium\n",
       "30900  @GigaFag @pipertownsend_ snapchat new would be...  joy     low\n",
       "30901    A hearty Jonza! to all my friends and follower.  joy    high\n",
       "\n",
       "[902 rows x 3 columns]"
      ]
     },
     "execution_count": 54,
     "metadata": {},
     "output_type": "execute_result"
    }
   ],
   "source": [
    "df_train[df_train[\"sen\"] == \"joy\"]"
   ]
  },
  {
   "cell_type": "code",
   "execution_count": 60,
   "id": "bd908f85",
   "metadata": {},
   "outputs": [
    {
     "name": "stdout",
     "output_type": "stream",
     "text": [
      "Collecting en-core-web-sm==3.2.0\n",
      "  Downloading https://github.com/explosion/spacy-models/releases/download/en_core_web_sm-3.2.0/en_core_web_sm-3.2.0-py3-none-any.whl (13.9 MB)\n",
      "Requirement already satisfied: spacy<3.3.0,>=3.2.0 in c:\\users\\felip\\anaconda3\\lib\\site-packages (from en-core-web-sm==3.2.0) (3.2.3)\n",
      "Requirement already satisfied: cymem<2.1.0,>=2.0.2 in c:\\users\\felip\\anaconda3\\lib\\site-packages (from spacy<3.3.0,>=3.2.0->en-core-web-sm==3.2.0) (2.0.6)\n",
      "Requirement already satisfied: spacy-legacy<3.1.0,>=3.0.8 in c:\\users\\felip\\anaconda3\\lib\\site-packages (from spacy<3.3.0,>=3.2.0->en-core-web-sm==3.2.0) (3.0.9)\n",
      "Requirement already satisfied: preshed<3.1.0,>=3.0.2 in c:\\users\\felip\\anaconda3\\lib\\site-packages (from spacy<3.3.0,>=3.2.0->en-core-web-sm==3.2.0) (3.0.6)\n",
      "Requirement already satisfied: blis<0.8.0,>=0.4.0 in c:\\users\\felip\\anaconda3\\lib\\site-packages (from spacy<3.3.0,>=3.2.0->en-core-web-sm==3.2.0) (0.7.5)\n",
      "Requirement already satisfied: pathy>=0.3.5 in c:\\users\\felip\\anaconda3\\lib\\site-packages (from spacy<3.3.0,>=3.2.0->en-core-web-sm==3.2.0) (0.6.1)\n",
      "Requirement already satisfied: murmurhash<1.1.0,>=0.28.0 in c:\\users\\felip\\anaconda3\\lib\\site-packages (from spacy<3.3.0,>=3.2.0->en-core-web-sm==3.2.0) (1.0.6)\n",
      "Requirement already satisfied: jinja2 in c:\\users\\felip\\anaconda3\\lib\\site-packages (from spacy<3.3.0,>=3.2.0->en-core-web-sm==3.2.0) (2.11.3)\n",
      "Requirement already satisfied: srsly<3.0.0,>=2.4.1 in c:\\users\\felip\\anaconda3\\lib\\site-packages (from spacy<3.3.0,>=3.2.0->en-core-web-sm==3.2.0) (2.4.2)\n",
      "Requirement already satisfied: thinc<8.1.0,>=8.0.12 in c:\\users\\felip\\anaconda3\\lib\\site-packages (from spacy<3.3.0,>=3.2.0->en-core-web-sm==3.2.0) (8.0.13)\n",
      "Requirement already satisfied: catalogue<2.1.0,>=2.0.6 in c:\\users\\felip\\anaconda3\\lib\\site-packages (from spacy<3.3.0,>=3.2.0->en-core-web-sm==3.2.0) (2.0.6)\n",
      "Requirement already satisfied: typer<0.5.0,>=0.3.0 in c:\\users\\felip\\anaconda3\\lib\\site-packages (from spacy<3.3.0,>=3.2.0->en-core-web-sm==3.2.0) (0.4.0)\n",
      "Requirement already satisfied: spacy-loggers<2.0.0,>=1.0.0 in c:\\users\\felip\\anaconda3\\lib\\site-packages (from spacy<3.3.0,>=3.2.0->en-core-web-sm==3.2.0) (1.0.1)\n",
      "Requirement already satisfied: tqdm<5.0.0,>=4.38.0 in c:\\users\\felip\\anaconda3\\lib\\site-packages (from spacy<3.3.0,>=3.2.0->en-core-web-sm==3.2.0) (4.62.3)\n",
      "Requirement already satisfied: wasabi<1.1.0,>=0.8.1 in c:\\users\\felip\\anaconda3\\lib\\site-packages (from spacy<3.3.0,>=3.2.0->en-core-web-sm==3.2.0) (0.9.0)\n",
      "Requirement already satisfied: numpy>=1.15.0 in c:\\users\\felip\\anaconda3\\lib\\site-packages (from spacy<3.3.0,>=3.2.0->en-core-web-sm==3.2.0) (1.21.5)\n",
      "Requirement already satisfied: langcodes<4.0.0,>=3.2.0 in c:\\users\\felip\\anaconda3\\lib\\site-packages (from spacy<3.3.0,>=3.2.0->en-core-web-sm==3.2.0) (3.3.0)\n",
      "Requirement already satisfied: requests<3.0.0,>=2.13.0 in c:\\users\\felip\\anaconda3\\lib\\site-packages (from spacy<3.3.0,>=3.2.0->en-core-web-sm==3.2.0) (2.27.1)\n",
      "Requirement already satisfied: pydantic!=1.8,!=1.8.1,<1.9.0,>=1.7.4 in c:\\users\\felip\\anaconda3\\lib\\site-packages (from spacy<3.3.0,>=3.2.0->en-core-web-sm==3.2.0) (1.8.2)\n",
      "Requirement already satisfied: packaging>=20.0 in c:\\users\\felip\\anaconda3\\lib\\site-packages (from spacy<3.3.0,>=3.2.0->en-core-web-sm==3.2.0) (21.3)\n",
      "Requirement already satisfied: setuptools in c:\\users\\felip\\anaconda3\\lib\\site-packages (from spacy<3.3.0,>=3.2.0->en-core-web-sm==3.2.0) (58.0.4)\n",
      "Requirement already satisfied: pyparsing!=3.0.5,>=2.0.2 in c:\\users\\felip\\anaconda3\\lib\\site-packages (from packaging>=20.0->spacy<3.3.0,>=3.2.0->en-core-web-sm==3.2.0) (3.0.4)\n",
      "Requirement already satisfied: smart-open<6.0.0,>=5.0.0 in c:\\users\\felip\\anaconda3\\lib\\site-packages (from pathy>=0.3.5->spacy<3.3.0,>=3.2.0->en-core-web-sm==3.2.0) (5.2.1)\n",
      "Requirement already satisfied: typing-extensions>=3.7.4.3 in c:\\users\\felip\\anaconda3\\lib\\site-packages (from pydantic!=1.8,!=1.8.1,<1.9.0,>=1.7.4->spacy<3.3.0,>=3.2.0->en-core-web-sm==3.2.0) (3.10.0.2)\n",
      "Requirement already satisfied: urllib3<1.27,>=1.21.1 in c:\\users\\felip\\anaconda3\\lib\\site-packages (from requests<3.0.0,>=2.13.0->spacy<3.3.0,>=3.2.0->en-core-web-sm==3.2.0) (1.26.8)\n",
      "Requirement already satisfied: charset-normalizer~=2.0.0 in c:\\users\\felip\\anaconda3\\lib\\site-packages (from requests<3.0.0,>=2.13.0->spacy<3.3.0,>=3.2.0->en-core-web-sm==3.2.0) (2.0.4)\n",
      "Requirement already satisfied: idna<4,>=2.5 in c:\\users\\felip\\anaconda3\\lib\\site-packages (from requests<3.0.0,>=2.13.0->spacy<3.3.0,>=3.2.0->en-core-web-sm==3.2.0) (3.3)\n",
      "Requirement already satisfied: certifi>=2017.4.17 in c:\\users\\felip\\anaconda3\\lib\\site-packages (from requests<3.0.0,>=2.13.0->spacy<3.3.0,>=3.2.0->en-core-web-sm==3.2.0) (2021.10.8)\n",
      "Requirement already satisfied: colorama in c:\\users\\felip\\anaconda3\\lib\\site-packages (from tqdm<5.0.0,>=4.38.0->spacy<3.3.0,>=3.2.0->en-core-web-sm==3.2.0) (0.4.4)\n",
      "Requirement already satisfied: click<9.0.0,>=7.1.1 in c:\\users\\felip\\anaconda3\\lib\\site-packages (from typer<0.5.0,>=0.3.0->spacy<3.3.0,>=3.2.0->en-core-web-sm==3.2.0) (8.0.3)\n",
      "Requirement already satisfied: MarkupSafe>=0.23 in c:\\users\\felip\\anaconda3\\lib\\site-packages (from jinja2->spacy<3.3.0,>=3.2.0->en-core-web-sm==3.2.0) (1.1.1)\n",
      "Installing collected packages: en-core-web-sm\n",
      "Successfully installed en-core-web-sm-3.2.0\n",
      "[+] Download and installation successful\n",
      "You can now load the package via spacy.load('en_core_web_sm')\n"
     ]
    }
   ],
   "source": [
    "#import spacy library\n",
    "import spacy\n",
    "\n",
    "!python -m spacy download en_core_web_sm\n",
    "\n",
    "nlp = spacy.load(\"en_core_web_sm\")"
   ]
  },
  {
   "cell_type": "code",
   "execution_count": 66,
   "id": "75f65055",
   "metadata": {},
   "outputs": [],
   "source": [
    "vocab_joy = {i: [] for i in intensities}\n",
    "for i in intensities:\n",
    "    _sub = df_train[(df_train[\"sen\"] == \"joy\") & (df_train[\"int\"] == i)]\n",
    "    for text in _sub[\"text\"]:\n",
    "        doc = nlp(text)\n",
    "        for t in doc:\n",
    "            vocab_joy[i].append(t.text.lower())"
   ]
  },
  {
   "cell_type": "code",
   "execution_count": 68,
   "id": "4848bbf3",
   "metadata": {},
   "outputs": [],
   "source": [
    "import collections"
   ]
  },
  {
   "cell_type": "code",
   "execution_count": 73,
   "id": "9c243322",
   "metadata": {},
   "outputs": [
    {
     "data": {
      "text/plain": [
       "[('#', 502),\n",
       " ('.', 282),\n",
       " ('the', 240),\n",
       " (',', 200),\n",
       " ('i', 190),\n",
       " ('to', 164),\n",
       " ('a', 158),\n",
       " ('and', 122),\n",
       " ('you', 113),\n",
       " ('of', 110),\n",
       " ('!', 102),\n",
       " ('is', 100),\n",
       " ('it', 88),\n",
       " ('this', 82),\n",
       " (\"'s\", 75),\n",
       " (' ', 73),\n",
       " ('that', 70),\n",
       " ('in', 66),\n",
       " ('by', 65),\n",
       " (\"'\", 64),\n",
       " ('watch', 58),\n",
       " ('be', 56),\n",
       " ('amazing', 54),\n",
       " ('my', 53),\n",
       " ('live.ly', 52),\n",
       " ('broadcast', 52),\n",
       " ('musically', 51),\n",
       " ('on', 44),\n",
       " ('just', 43),\n",
       " ('for', 43),\n",
       " ('with', 42),\n",
       " (\"'m\", 41),\n",
       " ('me', 41),\n",
       " ('at', 40),\n",
       " ('so', 39),\n",
       " (\"n't\", 38),\n",
       " ('not', 37),\n",
       " ('have', 36),\n",
       " ('lively', 36),\n",
       " ('-', 35),\n",
       " (';', 35),\n",
       " ('optimism', 34),\n",
       " ('but', 34),\n",
       " ('good', 33),\n",
       " (':', 31),\n",
       " ('up', 30),\n",
       " ('&', 29),\n",
       " ('amp', 29),\n",
       " ('your', 29),\n",
       " ('happy', 28),\n",
       " ('like', 28),\n",
       " ('do', 27),\n",
       " ('was', 27),\n",
       " ('?', 27),\n",
       " ('smile', 26),\n",
       " ('about', 26),\n",
       " ('will', 25),\n",
       " ('make', 24),\n",
       " ('he', 24),\n",
       " ('day', 23),\n",
       " ('what', 23),\n",
       " ('if', 22),\n",
       " ('now', 21),\n",
       " ('glee', 21),\n",
       " ('we', 21),\n",
       " ('all', 21),\n",
       " ('can', 21),\n",
       " ('out', 21),\n",
       " ('*', 21),\n",
       " ('hilarious', 20),\n",
       " ('or', 19),\n",
       " ('are', 19),\n",
       " ('one', 19),\n",
       " ('her', 19),\n",
       " ('know', 19),\n",
       " ('...', 18),\n",
       " (\"'re\", 18),\n",
       " ('his', 18),\n",
       " ('as', 18),\n",
       " ('love', 17),\n",
       " ('she', 17),\n",
       " ('they', 16),\n",
       " ('an', 16),\n",
       " ('..', 16),\n",
       " ('when', 15),\n",
       " ('over', 15),\n",
       " ('how', 15),\n",
       " ('more', 14),\n",
       " ('go', 14),\n",
       " ('time', 14),\n",
       " ('laughter', 14),\n",
       " ('lol', 14),\n",
       " ('everything', 14),\n",
       " ('get', 14),\n",
       " ('delight', 13),\n",
       " ('has', 13),\n",
       " ('because', 13),\n",
       " ('there', 13),\n",
       " ('pleasing', 13),\n",
       " ('did', 13),\n",
       " ('being', 13),\n",
       " ('our', 13),\n",
       " ('elated', 12),\n",
       " ('feel', 12),\n",
       " ('am', 12),\n",
       " ('life', 12),\n",
       " ('see', 12),\n",
       " (\"'ll\", 12),\n",
       " ('give', 12),\n",
       " ('playful', 12),\n",
       " ('from', 12),\n",
       " ('hearty', 12),\n",
       " ('cheering', 12),\n",
       " ('think', 11),\n",
       " ('ever', 11),\n",
       " ('some', 11),\n",
       " ('back', 11),\n",
       " ('cheerful', 11),\n",
       " ('/', 11),\n",
       " ('want', 10),\n",
       " ('great', 10),\n",
       " ('watching', 10),\n",
       " (\"'ve\", 10),\n",
       " ('hilarity', 10),\n",
       " ('😂', 10),\n",
       " (':)', 10),\n",
       " ('always', 10),\n",
       " ('best', 10),\n",
       " ('u', 10),\n",
       " ('little', 10),\n",
       " ('breezy', 10),\n",
       " ('rejoice', 10),\n",
       " ('no', 10),\n",
       " ('cheerfully', 10),\n",
       " ('world', 9),\n",
       " ('right', 9),\n",
       " ('then', 9),\n",
       " ('who', 9),\n",
       " ('look', 9),\n",
       " ('really', 9),\n",
       " ('ca', 9),\n",
       " ('joyful', 9),\n",
       " ('down', 9),\n",
       " ('next', 9),\n",
       " ('cheer', 9),\n",
       " ('man', 9),\n",
       " ('sparkling', 9),\n",
       " ('never', 9),\n",
       " ('any', 9),\n",
       " ('joyous', 9),\n",
       " ('show', 9),\n",
       " ('exhilaration', 9),\n",
       " ('_', 9),\n",
       " ('had', 8),\n",
       " ('been', 8),\n",
       " ('got', 8),\n",
       " ('today', 8),\n",
       " ('only', 8),\n",
       " ('yet', 8),\n",
       " ('every', 8),\n",
       " ('much', 8),\n",
       " ('gbbo', 8),\n",
       " ('animated', 8),\n",
       " ('accept', 8),\n",
       " ('challenges', 8),\n",
       " ('bright', 8),\n",
       " ('new', 8),\n",
       " ('were', 8),\n",
       " ('️', 7),\n",
       " ('rejoicing', 7),\n",
       " ('why', 7),\n",
       " ('least', 7),\n",
       " ('side', 7),\n",
       " ('them', 7),\n",
       " ('god', 7),\n",
       " ('cheery', 7),\n",
       " ('smiling', 7),\n",
       " ('beautiful', 7),\n",
       " ('off', 7),\n",
       " ('thanks', 7),\n",
       " ('funny', 7),\n",
       " ('him', 7),\n",
       " ('getting', 7),\n",
       " ('something', 7),\n",
       " ('need', 7),\n",
       " ('better', 7),\n",
       " ('😭', 7),\n",
       " ('face', 7),\n",
       " ('🔥', 7),\n",
       " ('(', 7),\n",
       " ('after', 7),\n",
       " ('someone', 6),\n",
       " ('change', 6),\n",
       " ('exhilarating', 6),\n",
       " ('into', 6),\n",
       " ('makes', 6),\n",
       " ('yourself', 6),\n",
       " ('than', 6),\n",
       " ('us', 6),\n",
       " ('very', 6),\n",
       " ('remember', 6),\n",
       " ('week', 6),\n",
       " ('follow', 6),\n",
       " ('those', 6),\n",
       " ('❤', 6),\n",
       " ('success', 6),\n",
       " ('goals', 6),\n",
       " ('also', 6),\n",
       " ('even', 6),\n",
       " ('would', 6),\n",
       " ('levity', 6),\n",
       " ('looks', 6),\n",
       " ('mind', 6),\n",
       " (')', 6),\n",
       " ('stop', 6),\n",
       " ('maybe', 6),\n",
       " ('way', 6),\n",
       " ('👅', 6),\n",
       " ('put', 5),\n",
       " ('shit', 5),\n",
       " ('positivity', 5),\n",
       " ('people', 5),\n",
       " ('which', 5),\n",
       " ('team', 5),\n",
       " ('most', 5),\n",
       " ('chirp', 5),\n",
       " ('talking', 5),\n",
       " ('ur', 5),\n",
       " ('everyone', 5),\n",
       " ('their', 5),\n",
       " ('head', 5),\n",
       " ('end', 5),\n",
       " ('still', 5),\n",
       " ('fight', 5),\n",
       " ('come', 5),\n",
       " ('cheerfulness', 5),\n",
       " ('such', 5),\n",
       " ('thought', 5),\n",
       " ('anything', 5),\n",
       " ('n', 5),\n",
       " ('may', 5),\n",
       " ('spirit', 5),\n",
       " ('victory', 5),\n",
       " (\"'d\", 5),\n",
       " ('promise', 5),\n",
       " ('looking', 5),\n",
       " ('—', 5),\n",
       " ('nice', 5),\n",
       " ('\\xa0', 5),\n",
       " ('heyday', 5),\n",
       " ('hey', 5),\n",
       " ('free', 5),\n",
       " ('💦', 5),\n",
       " ('future', 4),\n",
       " ('hit', 4),\n",
       " ('lovely', 4),\n",
       " ('morning', 4),\n",
       " ('big', 4),\n",
       " ('ya', 4),\n",
       " ('things', 4),\n",
       " ('trying', 4),\n",
       " ('comedy', 4),\n",
       " ('wish', 4),\n",
       " ('keep', 4),\n",
       " ('sweet', 4),\n",
       " ('lot', 4),\n",
       " ('wait', 4),\n",
       " ('mirth', 4),\n",
       " ('sure', 4),\n",
       " ('started', 4),\n",
       " ('jubilant', 4),\n",
       " ('kids', 4),\n",
       " ('15', 4),\n",
       " ('yoga', 4),\n",
       " ('breakfast', 4),\n",
       " ('health', 4),\n",
       " ('juggle', 4),\n",
       " ('balls', 4),\n",
       " ('pun', 4),\n",
       " ('punny', 4),\n",
       " ('let', 4),\n",
       " ('making', 4),\n",
       " ('along', 4),\n",
       " ('known', 4),\n",
       " ('....', 4),\n",
       " ('went', 4),\n",
       " ('♥', 4),\n",
       " ('felt', 4),\n",
       " ('first', 4),\n",
       " ('incredible', 4),\n",
       " ('too', 4),\n",
       " ('jovial', 4),\n",
       " ('\\\\n', 4),\n",
       " ('rojo', 4),\n",
       " ('hope', 4),\n",
       " ('somebody', 4),\n",
       " ('quote_soup', 4),\n",
       " ('thing', 4),\n",
       " ('bill', 4),\n",
       " ('said', 4),\n",
       " ('met', 4),\n",
       " ('could', 4),\n",
       " ('each', 4),\n",
       " ('other', 4),\n",
       " ('voice', 4),\n",
       " ('find', 4),\n",
       " ('say', 4),\n",
       " ('quote', 4),\n",
       " ('fun', 4),\n",
       " ('tonight', 4),\n",
       " ('top', 4),\n",
       " ('trust', 4),\n",
       " ('channel', 4),\n",
       " ('before', 4),\n",
       " ('oh', 4),\n",
       " ('moment', 4),\n",
       " ('jaunty', 4),\n",
       " ('here', 4),\n",
       " ('actually', 4),\n",
       " ('tears', 4),\n",
       " ('greatest', 4),\n",
       " ('problemsolving', 4),\n",
       " ('behappy', 4),\n",
       " ('lost', 4),\n",
       " ('heart', 4),\n",
       " ('“', 4),\n",
       " ('woman', 4),\n",
       " ('4', 4),\n",
       " ('living', 4),\n",
       " ('😝', 4),\n",
       " ('book', 3),\n",
       " ('books', 3),\n",
       " ('reading', 3),\n",
       " ('ai', 3),\n",
       " ('deserve', 3),\n",
       " ('listen', 3),\n",
       " ('finally', 3),\n",
       " ('ready', 3),\n",
       " ('done', 3),\n",
       " ('laugh', 3),\n",
       " ('medicine', 3),\n",
       " ('loved', 3),\n",
       " ('called', 3),\n",
       " ('happiness', 3),\n",
       " ('class', 3),\n",
       " ('once', 3),\n",
       " ('memories', 3),\n",
       " ('😊', 3),\n",
       " ('val', 3),\n",
       " ('green', 3),\n",
       " ('blessing', 3),\n",
       " ('brings', 3),\n",
       " ('round', 3),\n",
       " ('bring', 3),\n",
       " ('simply', 3),\n",
       " ('welcome', 3),\n",
       " ('well', 3),\n",
       " ('🙄', 3),\n",
       " ('white', 3),\n",
       " ('arms', 3),\n",
       " ('omg', 3),\n",
       " ('outside', 3),\n",
       " ('following', 3),\n",
       " ('boss', 3),\n",
       " ('whole', 3),\n",
       " ('use', 3),\n",
       " ('high', 3),\n",
       " ('same', 3),\n",
       " ('above', 3),\n",
       " ('starts', 3),\n",
       " ('air', 3),\n",
       " ('check', 3),\n",
       " ('please', 3),\n",
       " ('ok', 3),\n",
       " ('far', 3),\n",
       " ('long', 3),\n",
       " ('spry', 3),\n",
       " ('used', 3),\n",
       " ('young', 3),\n",
       " ('found', 3),\n",
       " ('peter', 3),\n",
       " ('anyone', 3),\n",
       " ('years', 3),\n",
       " ('ago', 3),\n",
       " ('took', 3),\n",
       " ('video', 3),\n",
       " ('myself', 3),\n",
       " ('place', 3),\n",
       " ('start', 3),\n",
       " ('weather', 3),\n",
       " ('easy', 3),\n",
       " ('own', 3),\n",
       " ('mood', 3),\n",
       " ('nation', 3),\n",
       " ('wine', 3),\n",
       " ('feeling', 3),\n",
       " ('shower', 3),\n",
       " ('glad', 3),\n",
       " ('lips', 3),\n",
       " ('calm', 3),\n",
       " ('justice', 3),\n",
       " ('mighty', 3),\n",
       " ('💯', 3),\n",
       " ('though', 3),\n",
       " ('through', 3),\n",
       " ('home', 3),\n",
       " ('must', 3),\n",
       " ('live', 3),\n",
       " ('music', 3),\n",
       " ('hang', 3),\n",
       " ('friend', 3),\n",
       " ('attempt', 3),\n",
       " ('care', 3),\n",
       " ('name', 3),\n",
       " ('’s', 3),\n",
       " ('3', 3),\n",
       " ('plays', 3),\n",
       " ('treat', 3),\n",
       " ('🙏', 3),\n",
       " ('asked', 3),\n",
       " ('problems', 3),\n",
       " ('bunch', 3),\n",
       " ('break', 3),\n",
       " ('food', 3),\n",
       " ('doing', 3),\n",
       " ('version', 3),\n",
       " ('2', 3),\n",
       " ('word', 3),\n",
       " ('enough', 3),\n",
       " ('listening', 3),\n",
       " ('sick', 3),\n",
       " ('twitter', 3),\n",
       " ('water', 3),\n",
       " ('ye', 3),\n",
       " ('might', 3),\n",
       " ('quite', 3),\n",
       " ('double', 3),\n",
       " ('age', 3),\n",
       " ('episode', 3),\n",
       " ('going', 3),\n",
       " ('needs', 2),\n",
       " ('☺', 2),\n",
       " ('together', 2),\n",
       " ('library', 2),\n",
       " ('pile', 2),\n",
       " ('reservations', 2),\n",
       " ('collect', 2),\n",
       " ('due', 2),\n",
       " ('prayed', 2),\n",
       " ('endless', 2),\n",
       " ('tom', 2),\n",
       " ('tfw', 2),\n",
       " ('en', 2),\n",
       " ('route', 2),\n",
       " ('@hucjir', 2),\n",
       " ('coming', 2),\n",
       " ('openhouse', 2),\n",
       " ('futurecantor', 2),\n",
       " ('nycletsgo', 2),\n",
       " ('thursday', 2),\n",
       " ('means', 2),\n",
       " ('grey', 2),\n",
       " ('tgit', 2),\n",
       " ('@brooke_bridges', 2),\n",
       " ('superman', 2),\n",
       " ('continues', 2),\n",
       " ('night', 2),\n",
       " ('lmboo', 2),\n",
       " ('using', 2),\n",
       " ('nephew', 2),\n",
       " ('meme', 2),\n",
       " ('thinking', 2),\n",
       " ('youtube', 2),\n",
       " ('fond', 2),\n",
       " ('nut', 2),\n",
       " ('maybeoneday', 2),\n",
       " ('hopefullyfunny', 2),\n",
       " ('@bethenny', 2),\n",
       " ('independence', 2),\n",
       " ('msg', 2),\n",
       " ('@wendywilliams', 2),\n",
       " ('fulfilled', 2),\n",
       " ('within', 2),\n",
       " ('flock', 2),\n",
       " ('independent', 2),\n",
       " ('@katyy.mae', 2),\n",
       " ('present', 2),\n",
       " ('…', 2),\n",
       " ('truly', 2),\n",
       " ('bacheloretteau', 2),\n",
       " ('zoolander', 2),\n",
       " ('samvrhys', 2),\n",
       " ('yup', 2),\n",
       " ('x', 2),\n",
       " ('@bradshawjp', 2),\n",
       " ('different', 2),\n",
       " ('cute', 2),\n",
       " ('hell', 2),\n",
       " ('neighbor', 2),\n",
       " ('dancing', 2),\n",
       " ('clayton', 2),\n",
       " ('homes', 2),\n",
       " ('commercial', 2),\n",
       " ('news', 2),\n",
       " ('act', 2),\n",
       " ('strength', 2),\n",
       " ('important', 2),\n",
       " ('yeah', 2),\n",
       " ('addicted', 2),\n",
       " ('gleek', 2),\n",
       " ('red', 2),\n",
       " ('minutes', 2),\n",
       " ('routine', 2),\n",
       " ('preparation', 2),\n",
       " ('sunriseyoga', 2),\n",
       " ('bodyawareness', 2),\n",
       " ('stretch', 2),\n",
       " ('grand', 2),\n",
       " ('final', 2),\n",
       " ('win', 2),\n",
       " ('it.\\\\n', 2),\n",
       " ('@iamjustinburke', 2),\n",
       " ('around', 2),\n",
       " ('ones', 2),\n",
       " ('hip', 2),\n",
       " ('half', 2),\n",
       " ('birds', 2),\n",
       " ('dont', 2),\n",
       " ('car', 2),\n",
       " ('until', 2),\n",
       " ('realized', 2),\n",
       " ('another', 2),\n",
       " ('incredibly', 2),\n",
       " ('song', 2),\n",
       " ('brilliant', 2),\n",
       " ('metro', 2),\n",
       " ('lrt', 2),\n",
       " ('walterdale', 2),\n",
       " ('yeg', 2),\n",
       " ('snowgang', 2),\n",
       " ('@amynicolehill12', 2),\n",
       " ('princess', 2),\n",
       " ('fitness', 2),\n",
       " ('bodyposi', 2),\n",
       " ('haircut', 2),\n",
       " ('whitegirlwednesday', 2),\n",
       " ('bit', 2),\n",
       " ('blood', 2),\n",
       " ('sugar', 2),\n",
       " ('remembered', 2),\n",
       " ('totally', 2),\n",
       " ('call', 2),\n",
       " ('older', 2),\n",
       " ('old', 2),\n",
       " ('able', 2),\n",
       " ('bad', 2),\n",
       " ('@kaylaaa_sartorious', 2),\n",
       " ('💙', 2),\n",
       " ('tired', 2),\n",
       " ('miss', 2),\n",
       " ('does', 2),\n",
       " ('aesthetically', 2),\n",
       " ('followback', 2),\n",
       " ('mad', 2),\n",
       " ('bf', 2),\n",
       " ('lmfao', 2),\n",
       " ('leads', 2),\n",
       " ('kerr', 2),\n",
       " ('@coach__kerr', 2),\n",
       " ('respect', 2),\n",
       " ('untill', 2),\n",
       " ('7', 2),\n",
       " ('liked', 2),\n",
       " ('since', 2),\n",
       " ('cutealert', 2),\n",
       " ('forever', 2),\n",
       " ('@elise_awsome_11', 2),\n",
       " ('@footballrocks123456', 2),\n",
       " ('@maisiev', 2),\n",
       " ('try', 2),\n",
       " ('@flydudern', 2),\n",
       " ('hello', 2),\n",
       " ('thank', 2),\n",
       " ('merriment', 2),\n",
       " ('cook', 2),\n",
       " ('positive', 2),\n",
       " ('clients', 2),\n",
       " ('stuff', 2),\n",
       " ('@hannah', 2),\n",
       " ('mccloud', 2),\n",
       " ('temper', 2),\n",
       " ('spent', 2),\n",
       " ('remains', 2),\n",
       " ('@mrgummyking', 2),\n",
       " ('@rosannahill', 2),\n",
       " ('church', 2),\n",
       " ('restoration', 2),\n",
       " ('israel', 2),\n",
       " (\"'everywhere\", 2),\n",
       " ('barns', 2),\n",
       " ('overflow', 2),\n",
       " ('do_u_see', 2),\n",
       " ('@paulzimmer', 2),\n",
       " ('talk', 2),\n",
       " ('finn', 2),\n",
       " ('singing', 2),\n",
       " ('spying', 2),\n",
       " ('scenes', 2),\n",
       " ('@evanhufferd', 2),\n",
       " ('@kana_blender', 2),\n",
       " ('gained', 2),\n",
       " ('@huntermcaseyy', 2),\n",
       " ('pleasure', 2),\n",
       " ('plus', 2),\n",
       " ('pour', 2),\n",
       " ('yachtrock', 2),\n",
       " ('mustacheharbor', 2),\n",
       " ('order', 2),\n",
       " (']', 2),\n",
       " ('lord', 2),\n",
       " ('turn', 2),\n",
       " ('toward', 2),\n",
       " ('peace', 2),\n",
       " ('numbers', 2),\n",
       " ('6:26', 2),\n",
       " ('truth', 2),\n",
       " ('protected', 2),\n",
       " ('@its.finfin', 2),\n",
       " ('city', 2),\n",
       " ('kinda', 2),\n",
       " ('girl', 2),\n",
       " ('saying', 2),\n",
       " ('situation', 2),\n",
       " ('reciprocated', 2),\n",
       " ('--', 2),\n",
       " ('watched', 2),\n",
       " ('gave', 2),\n",
       " ('taking', 2),\n",
       " ('lots', 2),\n",
       " ('away', 2),\n",
       " ('@swagrman_fan', 2),\n",
       " ('@jaredhorgan', 2),\n",
       " ('hard', 2),\n",
       " ('coincidence', 2),\n",
       " ('game', 2),\n",
       " ('soul', 2),\n",
       " ('should', 2),\n",
       " ('pack', 2),\n",
       " ('year', 2),\n",
       " ('😜', 2),\n",
       " ('reminder', 2),\n",
       " ('eat', 2),\n",
       " ('bro', 2),\n",
       " ('laughing', 2),\n",
       " ('almost', 2),\n",
       " ('disposition', 2),\n",
       " ('hall', 2),\n",
       " ('words', 2),\n",
       " ('s.', 2),\n",
       " ('patton', 2),\n",
       " ('seems', 2),\n",
       " ('draw', 2),\n",
       " ('series', 2),\n",
       " ('wow', 2),\n",
       " ('tv', 2),\n",
       " ('@dailymailceleb', 2),\n",
       " ('@kthopkins', 2),\n",
       " ('katie', 2),\n",
       " ('describe', 2),\n",
       " ('normal', 2),\n",
       " ('neverchange', 2),\n",
       " ('tho', 2),\n",
       " ('@carysmithwriter', 2),\n",
       " ('@maria_savva', 2),\n",
       " ('@realrockandroll', 2),\n",
       " ('band', 2),\n",
       " ('muchlove', 2),\n",
       " ('addiction#break', 2),\n",
       " ('habittalk', 2),\n",
       " ('joys#quote', 2),\n",
       " ('@ittzdevin', 2),\n",
       " ('@__.mila', 2),\n",
       " ('@buryprofs', 2),\n",
       " ('@dittobistro', 2),\n",
       " ('effective', 2),\n",
       " ('autumn', 2),\n",
       " ('kicks', 2),\n",
       " ('😁', 2),\n",
       " ('@thebrandonrobert', 2),\n",
       " ('@broitzmax', 2),\n",
       " ('says', 2),\n",
       " ('hungry', 2),\n",
       " ('@brooks_swaggysquad', 2),\n",
       " ('@matt.boss', 2),\n",
       " ('musicallyjh', 2),\n",
       " ('where', 2),\n",
       " ('terrified', 2),\n",
       " ('dumb', 2),\n",
       " ('lmao', 2),\n",
       " ('@lorialan1', 2),\n",
       " ('seriously', 2),\n",
       " ('digging', 2),\n",
       " ('eyebrows', 2),\n",
       " ('memphis', 2),\n",
       " ('hale', 2),\n",
       " ('@arbitraryvlog', 2),\n",
       " ('update', 2),\n",
       " ('@miselizajane', 2),\n",
       " ('hopeful', 2),\n",
       " ('against', 2),\n",
       " ('gratefully', 2),\n",
       " ('picture', 2),\n",
       " ('awkward', 2),\n",
       " ('assume', 2),\n",
       " ('joviality', 2),\n",
       " ('working', 2),\n",
       " ('heavy', 2),\n",
       " ('pre', 2),\n",
       " ('debate', 2),\n",
       " ('potential', 2),\n",
       " ('whether', 2),\n",
       " ('wants', 2),\n",
       " ('@melissajoyrd', 2),\n",
       " ('@sarahkoszykrd', 2),\n",
       " ('@eat4performance', 2),\n",
       " ('@rustnutrition', 2),\n",
       " ('@jenhaugen', 2),\n",
       " ('sloth', 2),\n",
       " ('evil', 2),\n",
       " ('race', 2),\n",
       " ('film', 2),\n",
       " ('coughing', 2),\n",
       " ('ab', 2),\n",
       " ('workout', 2),\n",
       " ('abs', 2),\n",
       " ('defined', 2),\n",
       " ('😅', 2),\n",
       " ('laundry', 2),\n",
       " ('70', 2),\n",
       " ('strangers', 2),\n",
       " ('birthday', 2),\n",
       " ('breaks', 2),\n",
       " ('decision', 2),\n",
       " ('evening', 2),\n",
       " ('sleep', 2),\n",
       " ('vs', 2),\n",
       " ('flavors', 2),\n",
       " ('these', 2),\n",
       " ('decide', 2),\n",
       " ('afraid', 2),\n",
       " ('honest', 2),\n",
       " ('healthy', 2),\n",
       " ('few', 2),\n",
       " ('adverts', 2),\n",
       " ('point', 2),\n",
       " ('optimist', 2),\n",
       " ('foolish', 2),\n",
       " ('believe', 2),\n",
       " ('ustinov', 2),\n",
       " ('30', 2),\n",
       " ('thisisus', 2),\n",
       " ('messed', 2),\n",
       " ('anticipating', 2),\n",
       " ('apprehension', 2),\n",
       " ('isthereahelplineforthis', 2),\n",
       " ('crushed', 2),\n",
       " ('dries', 2),\n",
       " ('bones', 2),\n",
       " ('secret', 2),\n",
       " ('tomorrow', 2),\n",
       " ('massali', 2),\n",
       " ('wins', 2),\n",
       " ('meeting', 2),\n",
       " ('ass', 2),\n",
       " ('death', 2),\n",
       " ('hot', 2),\n",
       " ('wanna', 2),\n",
       " ('ladies', 2),\n",
       " ('anthony', 2),\n",
       " ('weiner', 2),\n",
       " ('@finkowska', 2),\n",
       " ('joys\\\\n\\\\n#quote', 2),\n",
       " ('  ', 2),\n",
       " ('5', 2),\n",
       " ('black', 2),\n",
       " ('@bookselenaxxx', 2),\n",
       " ('@hustler', 2),\n",
       " ('@fordays14', 2),\n",
       " ('😳', 2),\n",
       " ('chewing', 2),\n",
       " ('arcdental', 2),\n",
       " ('turlock', 2),\n",
       " ('content', 2),\n",
       " ('many', 2),\n",
       " ('gon', 2),\n",
       " ('na', 2),\n",
       " ('itching', 2),\n",
       " ('enjoy', 2),\n",
       " ('dex', 2),\n",
       " ('ought', 2),\n",
       " ('@brightpigseo', 2),\n",
       " ('truck', 2),\n",
       " ('miami', 2),\n",
       " ('while', 2),\n",
       " ('hair', 2),\n",
       " ('direction', 2),\n",
       " ('challenge', 2),\n",
       " ('business', 2),\n",
       " ('photographer', 2),\n",
       " ('photography', 2),\n",
       " ('thursdaythoughts', 2),\n",
       " ('@hesham786', 2),\n",
       " ('@harrietemmett', 2),\n",
       " ('minds', 2),\n",
       " ('alike', 2),\n",
       " ('keeps', 2),\n",
       " ('ability', 1),\n",
       " ('createlove', 1),\n",
       " ('@bluejayhunter', 1),\n",
       " ('fine', 1),\n",
       " ('near', 1),\n",
       " ('bed', 1),\n",
       " ('super', 1),\n",
       " ('audio', 1),\n",
       " ('compilations', 1),\n",
       " ('moments', 1),\n",
       " ('sugarboy', 1),\n",
       " ('hulu', 1),\n",
       " ('hahaha', 1),\n",
       " ('@tampabayray', 1),\n",
       " ('cried', 1),\n",
       " ('@r1breakfast', 1),\n",
       " ('totes', 1),\n",
       " ('re', 1),\n",
       " ('odell', 1),\n",
       " ('raaar', 1),\n",
       " ('@grimmers', 1),\n",
       " ('@fionaradio', 1),\n",
       " ('@tinadaheley', 1),\n",
       " ('raining', 1),\n",
       " ('ashland', 1),\n",
       " ('oregon', 1),\n",
       " ('parched', 1),\n",
       " ('summer', 1),\n",
       " ('fall', 1),\n",
       " ('plants', 1),\n",
       " ('@reinervshunter', 1),\n",
       " ('this\\uf499', 1),\n",
       " ('staystrong', 1),\n",
       " ('yourebeautiful', 1),\n",
       " ('current', 1),\n",
       " ('run', 1),\n",
       " ('poured', 1),\n",
       " ('everone', 1),\n",
       " ('creative', 1),\n",
       " ('riding', 1),\n",
       " ('refreshing', 1),\n",
       " ('@sszmata', 1),\n",
       " ('@pkessel81', 1),\n",
       " ('blew', 1),\n",
       " ('internet', 1),\n",
       " ('personaldevelopment\\\\n\\\\ntoday', 1),\n",
       " ('gift', 1),\n",
       " ('entrepreneur', 1),\n",
       " ('personaldevelopment', 1),\n",
       " ('bunk', 1),\n",
       " ('📚', 1),\n",
       " ('cuz', 1),\n",
       " ('later', 1),\n",
       " ('marks', 1),\n",
       " ('   ', 1),\n",
       " ('-apj', 1),\n",
       " ('@nikhilv95', 1),\n",
       " ('@lydiajanef', 1),\n",
       " ('modicum', 1),\n",
       " ('banter', 1),\n",
       " ('@scdesc', 1),\n",
       " ('basically', 1),\n",
       " ('ignoring', 1),\n",
       " ('recipe', 1),\n",
       " ('bursting', 1),\n",
       " ('fact', 1),\n",
       " ('selling', 1),\n",
       " ('kanye', 1),\n",
       " ('tickets', 1),\n",
       " ('buying', 1),\n",
       " ('less', 1),\n",
       " ('$', 1),\n",
       " ('50', 1),\n",
       " ('unbelievably', 1),\n",
       " ('showed', 1),\n",
       " ('performance', 1),\n",
       " ('emotions', 1),\n",
       " ('sticking', 1),\n",
       " ('freaking', 1),\n",
       " ('awesome', 1),\n",
       " ('@nick_offerman', 1),\n",
       " ('icon', 1),\n",
       " ('pochama.\\\\nhe', 1),\n",
       " ('easily', 1),\n",
       " ('@crimpoop', 1),\n",
       " ('adorable', 1),\n",
       " ('daughter\\\\nalways', 1),\n",
       " ('pouring', 1),\n",
       " ('goo', 1),\n",
       " ('me\\\\ndare', 1),\n",
       " ('hurt', 1),\n",
       " ('//growls\\\\n\\\\n#pandabot', 1),\n",
       " ('experience', 1),\n",
       " ('regardless', 1),\n",
       " ('odds', 1),\n",
       " ('gby', 1),\n",
       " ('@chrisrock', 1),\n",
       " ('saturdaynightlive', 1),\n",
       " ('lane', 1),\n",
       " ('liverpool', 1),\n",
       " ('anfield', 1),\n",
       " ('coys', 1),\n",
       " ('@albertbreer', 1),\n",
       " ('@jetswhispers', 1),\n",
       " ('switch', 1),\n",
       " ('cable', 1),\n",
       " ('kindness', 1),\n",
       " ('@tarleton_kine', 1),\n",
       " ('@drkaylapeak', 1),\n",
       " ('@jssimpson9', 1),\n",
       " ('@beingbrilliant', 1),\n",
       " ('@johnmurrays', 1),\n",
       " ('genuinely', 1),\n",
       " ('made', 1),\n",
       " ('wobble', 1),\n",
       " ('realise', 1),\n",
       " ('@liamch88', 1),\n",
       " ('playing', 1),\n",
       " ('@realkyper', 1),\n",
       " ('@nhl', 1),\n",
       " ('scrum', 1),\n",
       " ('remembering', 1),\n",
       " ('priceless', 1),\n",
       " ('bird', 1),\n",
       " ('🐦', 1),\n",
       " ('@sydneyswans', 1),\n",
       " ('@jetstarairways', 1),\n",
       " ('@deadlyjokester', 1),\n",
       " ('gasp', 1),\n",
       " ('slowly', 1),\n",
       " ('wrapped', 1),\n",
       " ('neck', 1),\n",
       " ('kissing', 1),\n",
       " ('t.i', 1),\n",
       " ('shawty', 1),\n",
       " ('lo', 1),\n",
       " ('beef', 1),\n",
       " ('underrated', 1),\n",
       " ('hop', 1),\n",
       " ('history', 1),\n",
       " ('chock', 1),\n",
       " ('full', 1),\n",
       " ('wit', 1),\n",
       " ('bravado', 1),\n",
       " ('popped', 1),\n",
       " ('bottle', 1),\n",
       " ('2014', 1),\n",
       " ('@bellawines', 1),\n",
       " ('gamaynoir', 1),\n",
       " ('westbank', 1),\n",
       " ('evenin', 1),\n",
       " ('folks', 1),\n",
       " ('\\\\n#bcwinechat', 1),\n",
       " ('beats', 1),\n",
       " ('garageband', 1),\n",
       " ('decided', 1),\n",
       " ('（', 1),\n",
       " ('≧∇≦', 1),\n",
       " ('）', 1),\n",
       " ('@budderlordk1ng', 1),\n",
       " ('join', 1),\n",
       " ('bffing', 1),\n",
       " (';)', 1),\n",
       " ('@adamrodricks', 1),\n",
       " ('ryan', 1),\n",
       " ('gosling', 1),\n",
       " ('eva', 1),\n",
       " ('mendes', 1),\n",
       " ('b', 1),\n",
       " ('argue', 1),\n",
       " ('mini', 1),\n",
       " ('trips/', 1),\n",
       " ('focus', 1),\n",
       " ('replaced', 1),\n",
       " ('sadness', 1),\n",
       " ('sad', 1),\n",
       " ('followed', 1),\n",
       " ('teeth', 1),\n",
       " ('witout', 1),\n",
       " ('braces', 1),\n",
       " ('@saraandgreg', 1),\n",
       " ('@airbnb', 1),\n",
       " ('customer', 1),\n",
       " ('secreteyes', 1),\n",
       " ...]"
      ]
     },
     "execution_count": 73,
     "metadata": {},
     "output_type": "execute_result"
    }
   ],
   "source": [
    "frequencyDict = collections.Counter(vocab_joy[\"medium\"])\n",
    "sorted(frequencyDict.items(), key=lambda x: x[1], reverse=True)"
   ]
  }
 ],
 "metadata": {
  "kernelspec": {
   "display_name": "Python 3",
   "language": "python",
   "name": "python3"
  },
  "language_info": {
   "codemirror_mode": {
    "name": "ipython",
    "version": 3
   },
   "file_extension": ".py",
   "mimetype": "text/x-python",
   "name": "python",
   "nbconvert_exporter": "python",
   "pygments_lexer": "ipython3",
   "version": "3.7.11"
  }
 },
 "nbformat": 4,
 "nbformat_minor": 5
}

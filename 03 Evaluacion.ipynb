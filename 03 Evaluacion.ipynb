{
 "cells": [
  {
   "cell_type": "markdown",
   "id": "1042f194",
   "metadata": {},
   "source": [
    "**NLP**\n",
    "\n",
    "*CC6205-1 - Otoño 2022*\n",
    "\n",
    "Autor: Felipe Urrutia Vargas"
   ]
  },
  {
   "cell_type": "code",
   "execution_count": 1,
   "id": "61754f55",
   "metadata": {},
   "outputs": [],
   "source": [
    "# !pip install --upgrade pandas\n",
    "\n",
    "import pandas as pd\n",
    "import numpy as np\n",
    "# pd.set_option(\"max_rows\", None)\n",
    "import pickle\n",
    "from string import punctuation\n",
    "import re\n",
    "\n",
    "from sklearn.metrics import cohen_kappa_score\n",
    "import matplotlib.pyplot as plt\n",
    "import seaborn as sns\n",
    "# from astropy.visualization import hist\n",
    "sns.set_theme(style=\"whitegrid\")\n",
    "plt.rc('axes', titlesize=14)\n",
    "plt.rc('legend', fontsize=14)\n",
    "plt.rc('xtick', labelsize=12)\n",
    "plt.rc('ytick', labelsize=12)\n",
    "plt.rcParams.update({'font.size': 16})\n",
    "plt.rcParams['axes.titlesize'] = 16\n",
    "plt.rcParams[\"figure.figsize\"] = (10, 6)\n",
    "plt.rcParams.update({'lines.markeredgewidth': 1})\n",
    "plt.rcParams.update({'errorbar.capsize': 2})\n",
    "import random\n",
    "\n",
    "import plotly.express as px\n",
    "import time\n",
    "import datetime\n",
    "\n",
    "from sklearn.model_selection import train_test_split\n",
    "import numpy as np\n",
    "from sklearn.pipeline import make_pipeline\n",
    "from sklearn.preprocessing import StandardScaler\n",
    "from sklearn.svm import SVC\n",
    "from sklearn.feature_selection import SelectKBest, chi2\n",
    "from sklearn.model_selection import cross_validate\n",
    "from sklearn.metrics import precision_recall_fscore_support"
   ]
  },
  {
   "cell_type": "code",
   "execution_count": 3,
   "id": "94b37680",
   "metadata": {},
   "outputs": [],
   "source": [
    "sentiments = \"anger fear joy sadness\".split()\n",
    "intensities = \"low medium high\".split()"
   ]
  },
  {
   "cell_type": "code",
   "execution_count": 4,
   "id": "7ef94e72",
   "metadata": {},
   "outputs": [],
   "source": [
    "df_train = pickle.load(open(\"df_train.pickle\", \"rb\"))"
   ]
  },
  {
   "cell_type": "code",
   "execution_count": 5,
   "id": "6ea2a127",
   "metadata": {},
   "outputs": [],
   "source": [
    "df_representation = pickle.load(open(\"df_representation_v1.pickle\", \"rb\"))"
   ]
  },
  {
   "cell_type": "code",
   "execution_count": 6,
   "id": "0f8701a0",
   "metadata": {},
   "outputs": [],
   "source": [
    "partition_attrib = {\n",
    "    type_attrib: [c for c in df_representation.columns if type_attrib+\"<&>\" in c]\n",
    "    for type_attrib in \"retro punct emoji linguistics\".split()\n",
    "}"
   ]
  },
  {
   "cell_type": "code",
   "execution_count": 8,
   "id": "47f50444",
   "metadata": {},
   "outputs": [
    {
     "data": {
      "text/plain": [
       "('summary type attrib',\n",
       " {'retro': 13, 'punct': 7, 'emoji': 190, 'linguistics': 11540})"
      ]
     },
     "execution_count": 8,
     "metadata": {},
     "output_type": "execute_result"
    }
   ],
   "source": [
    "\"summary type attrib\", {k: len(v) for k, v in partition_attrib.items()}"
   ]
  },
  {
   "cell_type": "code",
   "execution_count": 11,
   "id": "35f2c74f",
   "metadata": {},
   "outputs": [],
   "source": [
    "sen = sentiments[0]\n",
    "indexs = df_train[df_train[\"sen\"] == sen].index\n",
    "cols_selected_sen = pickle.load(open(f\"cols_selected_{sen}_v1.pickle\", \"rb\"))\n",
    "\n",
    "X = df_representation.loc[indexs][cols_selected_sen]\n",
    "y = df_train.loc[X.index][\"int\"]"
   ]
  },
  {
   "cell_type": "code",
   "execution_count": 10,
   "id": "a48e4cd5",
   "metadata": {},
   "outputs": [
    {
     "data": {
      "text/plain": [
       "0.6395348837209303"
      ]
     },
     "execution_count": 10,
     "metadata": {},
     "output_type": "execute_result"
    }
   ],
   "source": [
    "X_train, X_test, y_train, y_test = train_test_split(X, y, test_size=0.2, random_state=42)\n",
    "clf = make_pipeline(StandardScaler(), SVC(gamma='auto', class_weight=\"balanced\"))\n",
    "clf.fit(X_train, y_train)\n",
    "clf.score(X_test, y_test)"
   ]
  },
  {
   "cell_type": "code",
   "execution_count": 495,
   "id": "92caee50",
   "metadata": {},
   "outputs": [],
   "source": []
  }
 ],
 "metadata": {
  "kernelspec": {
   "display_name": "Python 3 (ipykernel)",
   "language": "python",
   "name": "python3"
  },
  "language_info": {
   "codemirror_mode": {
    "name": "ipython",
    "version": 3
   },
   "file_extension": ".py",
   "mimetype": "text/x-python",
   "name": "python",
   "nbconvert_exporter": "python",
   "pygments_lexer": "ipython3",
   "version": "3.8.5"
  }
 },
 "nbformat": 4,
 "nbformat_minor": 5
}

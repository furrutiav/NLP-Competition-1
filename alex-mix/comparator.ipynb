{
 "cells": [
  {
   "cell_type": "code",
   "execution_count": 45,
   "metadata": {
    "collapsed": true
   },
   "outputs": [],
   "source": [
    "import pandas as pd\n",
    "import numpy as np\n",
    "\n",
    "SENTIMENTS = \"anger fear joy sadness\".split()\n",
    "\n",
    "def load_predictions(folder_path: str) -> dict:\n",
    "    result = {}\n",
    "    for sen in SENTIMENTS:\n",
    "        path = f\"{folder_path}/{sen}-pred.txt\"\n",
    "        result[sen] = pd.read_csv(path, sep='\\t', names=['id', 'low', 'medium', 'high'])\n",
    "        result[sen].index()\n",
    "    return result\n",
    "\n",
    "def get_comparison(a: dict, b: dict, sentiment=None) -> [dict, pd.DataFrame]:\n",
    "    result = {}\n",
    "    for sen in SENTIMENTS:\n",
    "        intensity_a = a[sen].apply(lambda x: np.argmax(x[1:]), axis=1)\n",
    "        intensity_b = b[sen].apply(lambda x: np.argmax(x[1:]), axis=1)\n",
    "        different = intensity_a != intensity_b\n",
    "        result[sen] = pd.DataFrame({\"id\": a[sen][\"id\"], \"a\": intensity_a, \"b\": intensity_b, \"different\": different}).set_index(\"id\")\n",
    "    if sentiment is not None:\n",
    "        return result[sentiment]\n",
    "    percentage = {}\n",
    "    equal_count = {}\n",
    "    different_count = {}\n",
    "    for sen in SENTIMENTS:\n",
    "        df = result[sen]\n",
    "        equal_count[sen] = df[df[\"different\"] == True][\"different\"].count()\n",
    "        different_count[sen] = df[df[\"different\"] == False][\"different\"].count()\n",
    "        percentage[sen] = equal_count[sen] / len(df.index)\n",
    "    meta_result = {\"result\": result, \"different_count\": different_count, \"equal_count\": equal_count, \"percentage\": percentage}\n",
    "    return meta_result"
   ]
  },
  {
   "cell_type": "code",
   "execution_count": 4,
   "outputs": [],
   "source": [
    "base_predictions = load_predictions(\"../assignment_1/predictions\")\n",
    "felipe_benja_predictions = load_predictions(\"../felipe-benja/predictions\")"
   ],
   "metadata": {
    "collapsed": false,
    "pycharm": {
     "name": "#%%\n"
    }
   }
  },
  {
   "cell_type": "code",
   "execution_count": 46,
   "outputs": [
    {
     "data": {
      "text/plain": "       a  b  different\nid                    \n10941  1  1      False\n10942  0  0      False\n10943  1  0       True\n10944  1  1      False\n10945  1  0       True\n...   .. ..        ...\n11696  1  1      False\n11697  1  1      False\n11698  1  0       True\n11699  1  0       True\n11700  1  0       True\n\n[760 rows x 3 columns]",
      "text/html": "<div>\n<style scoped>\n    .dataframe tbody tr th:only-of-type {\n        vertical-align: middle;\n    }\n\n    .dataframe tbody tr th {\n        vertical-align: top;\n    }\n\n    .dataframe thead th {\n        text-align: right;\n    }\n</style>\n<table border=\"1\" class=\"dataframe\">\n  <thead>\n    <tr style=\"text-align: right;\">\n      <th></th>\n      <th>a</th>\n      <th>b</th>\n      <th>different</th>\n    </tr>\n    <tr>\n      <th>id</th>\n      <th></th>\n      <th></th>\n      <th></th>\n    </tr>\n  </thead>\n  <tbody>\n    <tr>\n      <th>10941</th>\n      <td>1</td>\n      <td>1</td>\n      <td>False</td>\n    </tr>\n    <tr>\n      <th>10942</th>\n      <td>0</td>\n      <td>0</td>\n      <td>False</td>\n    </tr>\n    <tr>\n      <th>10943</th>\n      <td>1</td>\n      <td>0</td>\n      <td>True</td>\n    </tr>\n    <tr>\n      <th>10944</th>\n      <td>1</td>\n      <td>1</td>\n      <td>False</td>\n    </tr>\n    <tr>\n      <th>10945</th>\n      <td>1</td>\n      <td>0</td>\n      <td>True</td>\n    </tr>\n    <tr>\n      <th>...</th>\n      <td>...</td>\n      <td>...</td>\n      <td>...</td>\n    </tr>\n    <tr>\n      <th>11696</th>\n      <td>1</td>\n      <td>1</td>\n      <td>False</td>\n    </tr>\n    <tr>\n      <th>11697</th>\n      <td>1</td>\n      <td>1</td>\n      <td>False</td>\n    </tr>\n    <tr>\n      <th>11698</th>\n      <td>1</td>\n      <td>0</td>\n      <td>True</td>\n    </tr>\n    <tr>\n      <th>11699</th>\n      <td>1</td>\n      <td>0</td>\n      <td>True</td>\n    </tr>\n    <tr>\n      <th>11700</th>\n      <td>1</td>\n      <td>0</td>\n      <td>True</td>\n    </tr>\n  </tbody>\n</table>\n<p>760 rows × 3 columns</p>\n</div>"
     },
     "execution_count": 46,
     "metadata": {},
     "output_type": "execute_result"
    }
   ],
   "source": [
    "get_comparison(base_predictions, felipe_benja_predictions, \"anger\")"
   ],
   "metadata": {
    "collapsed": false,
    "pycharm": {
     "name": "#%%\n"
    }
   }
  },
  {
   "cell_type": "code",
   "execution_count": 48,
   "outputs": [
    {
     "data": {
      "text/plain": "230"
     },
     "execution_count": 48,
     "metadata": {},
     "output_type": "execute_result"
    }
   ],
   "source": [
    "get_comparison(base_predictions, felipe_benja_predictions)[\"equal_count\"][\"anger\"]"
   ],
   "metadata": {
    "collapsed": false,
    "pycharm": {
     "name": "#%%\n"
    }
   }
  },
  {
   "cell_type": "code",
   "execution_count": null,
   "outputs": [],
   "source": [],
   "metadata": {
    "collapsed": false,
    "pycharm": {
     "name": "#%%\n"
    }
   }
  }
 ],
 "metadata": {
  "kernelspec": {
   "display_name": "Python 3",
   "language": "python",
   "name": "python3"
  },
  "language_info": {
   "codemirror_mode": {
    "name": "ipython",
    "version": 2
   },
   "file_extension": ".py",
   "mimetype": "text/x-python",
   "name": "python",
   "nbconvert_exporter": "python",
   "pygments_lexer": "ipython2",
   "version": "2.7.6"
  }
 },
 "nbformat": 4,
 "nbformat_minor": 0
}